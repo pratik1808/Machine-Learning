{
 "cells": [
  {
   "cell_type": "markdown",
   "metadata": {
    "id": "voAS4e-XbWaH"
   },
   "source": [
    "## Assignment - 1 (65 pts)\n",
    "### By:  Pratik Gawli (pbg397), Kavya Angara (ka32577)\n",
    "\n",
    "### Due: 11:59 PM CT, September 7 \n",
    "\n",
    "---\n",
    "\n"
   ]
  },
  {
   "cell_type": "markdown",
   "metadata": {
    "id": "Rh_WVVdznfMN"
   },
   "source": [
    "# Question 1: Adoption of AI/ML (5 pts)\n",
    "\n",
    "#### Read the HBR article on barriers to adoption of AI/ML based solutions in the healthcare industry, which is posted as the first document in Canvas under Modules --> Resources.\n",
    "\n",
    "#### Write a paragraph in your own words summarizing what you feel were the key factors that contributed to the lack of trust (and hence adoption) of the AI/ML solutions discussed. "
   ]
  },
  {
   "cell_type": "markdown",
   "metadata": {},
   "source": [
    "The key factors that contribute to the lack of trust include, first, people want their treatment to be treated as unique, they would like the doctor to suggest treatment which is specific to them and not a generalized treatment, second, people would want the doctor to know their own history and the past/current medications that are involved and consider those medications while providing treatment, and third, I think is patients would like to be emphathized by the doctors and would be able to clearly communicate with the doctors which might not be the case when communicating with a chatbot.  "
   ]
  },
  {
   "cell_type": "markdown",
   "metadata": {
    "id": "IkVxrWs0o0tn"
   },
   "source": [
    "\n",
    "# Question 2: Google Flu Trends (8 pts)\n",
    "\n",
    "#### The second article posted  in Canvas under Modules --> Resources, (google flu) describes a high-profile (and embarrassingly  failed)  project done by google, highlighting the phenomena of data drift and the importance of continually monitoring/updating models post deployment.\n",
    "\n",
    "#### Read this article and then briefly describe \n",
    "\n",
    "\n"
   ]
  },
  {
   "cell_type": "markdown",
   "metadata": {},
   "source": [
    "\n",
    "#### (i) three important causes of \"data drift\" in the flu prediction problem that are mentioned in the article, and\n",
    "\n",
    "(i) Three important causes of \"data drift\" are :\n",
    "\n",
    "    a. \"Big data hubris\" : Marriage of big and small data leading to overfitting. Also, GFT developers report weeding out seasonal search terms unrelated to the flu but strongly correlated to the CDC data and GFT overlooks considerable information that could be extracted by traditional statistical methods.\n",
    "    b. \"Algorithm Dynamics\" : Though Algorithm Dynamics are due to the changes made by engineers to improve the commercial service and by consumers in using that service, this could be one of the factors for data drift.\n",
    "    c. \"Transparency and Replicability\" : Since the supporting materials for the GFT related papers did not meet emerging community standards. Neither were core search terms identified nor larger search corpus provided. It is impossible for Google to make its full arsenal of data available to outsiders, nor would it be ethically acceptable, given privacy issues. Given all these, transparency and replicability could easily be a reason for the data drift.\n",
    "\n",
    "#### (ii) one important aspect of the original google model design that made it very prone to overfitting (and hence poor generalization on future data).\n",
    "\n",
    "(ii) Original google model design \"Big data Hubris\",i.e., quantity of data does not mean that one can ignore \n",
    "     foundational issues of measurement and construct validity and reliability and dependencies among data, made\n",
    "     it very prone to overfitting"
   ]
  },
  {
   "cell_type": "markdown",
   "metadata": {
    "id": "hpTvwLiHVmfo"
   },
   "source": [
    "# Question 3: Maximum Likelihood Estimate (12 pts)\n",
    "\n",
    "100 students in the MSBA Program were asked if they wanted to buy the Big Ticket for the season. They reported their preferences by entering No or Yes in the survey. We use 0 to represent their disinterest in buying the Big Ticket and 1 to represent their interest. A random sample of 30 students yielded the following preferences:\n",
    "\n",
    "$$0 0 1 1 0 1 0 1 1 1 0 1 1 0 1 0 0 1 1 1 0 0 1 1 0 1 1 0 0 1$$\n",
    "\n",
    "These choices are assumed to arise by independent and identically distributed (i.i.d.) sampling from the following distribution and if the unknown parameter $q$ can be estimated, then we can provide more insights about the students' preference.\n",
    "\n",
    "$$\n",
    "\\begin{equation}\n",
    "\\nonumber P(x) = \\left\\{\n",
    "\\begin{array}{l l}\n",
    "    q& \\quad \\text{for  } x=0\\\\\n",
    "1-q & \\quad \\text{for } x=1\n",
    "\\end{array} \\right.\n",
    "\\end{equation}\n",
    "$$\n",
    "\n",
    "\n",
    "1. Based on the definitions given above, write down the likelihood function (3 pts)\n",
    "2. Derive the **maximum likelihood estimator** of $q$ (Algenric expression in terms of variables) (3 pts)\n",
    "3. Using the given sample, find a maximum likelihood estimate of $q$ as well (numerical value) (3 pts)\n",
    "4. Show that the maximum likelihood estimate is unbiased (3 pts)\n",
    "\n",
    "Note: For this question, you can either upload a scanned copy of the handwritten solution or write the answer in LaTex/Markdown.\n"
   ]
  },
  {
   "cell_type": "markdown",
   "metadata": {},
   "source": [
    "### Please find below and attached, Q3.pdf"
   ]
  },
  {
   "cell_type": "code",
   "execution_count": 1,
   "metadata": {},
   "outputs": [
    {
     "data": {
      "text/html": [
       "<iframe src=Q3.pdf width=1000 height=800></iframe>"
      ],
      "text/latex": [
       "\\includegraphics[width=1.0\\textwidth]{Q3.pdf}"
      ],
      "text/plain": [
       "<__main__.PDF at 0x7fa0998cf160>"
      ]
     },
     "execution_count": 1,
     "metadata": {},
     "output_type": "execute_result"
    }
   ],
   "source": [
    "class PDF(object):\n",
    "  def __init__(self, pdf, size=(200,200)):\n",
    "    self.pdf = pdf\n",
    "    self.size = size\n",
    "\n",
    "  def _repr_html_(self):\n",
    "    return '<iframe src={0} width={1[0]} height={1[1]}></iframe>'.format(self.pdf, self.size)\n",
    "\n",
    "  def _repr_latex_(self):\n",
    "    return r'\\includegraphics[width=1.0\\textwidth]{{{0}}}'.format(self.pdf)\n",
    "\n",
    "PDF('Q3.pdf',size=(1000,800))"
   ]
  },
  {
   "cell_type": "markdown",
   "metadata": {
    "id": "nTWFVcvwXP4w"
   },
   "source": [
    "# Question 4: Linear Regression (10 pts)\n",
    "\n",
    "#### 1. What is the difference between R-square and adjusted R square and why is it desirable to use the adjusted value? (4 pts)\n",
    "\n",
    "Rsquared: \n",
    "Rsquared is a measure of how much the dependant variable(Y’s) variance is explained by variation in our independant variable (X’s) and is measured within the range 0 to 1 with higher the better relationship. \n",
    "\n",
    "Adjusted Rsquared: \n",
    "Adjusted R squared is used when we perform multiple regression i.e. more than one independant variables(X’s). Adding more and more variables to the model increases Rsquared but Adjusted Rsquared penalises adding variables which are less significant, resulting in Adjusted Rsquared being less than Rsquared. Adjusted Rsquared\n",
    "\n",
    "Rsquared assumes that all the independent variables in the model affect the result, whereas the adjusted Rsquared considers only those independent variables which actually have an effect on the performance of the model.  In an incremental model, If a variable is non-significant, the R squared value will still increase, but the adjusted R squared value will decrease at that point. So, to get a more appropriate interpretition of the effect of independant variables on the dependant variable, it is desirable to use the adjusted Rsquared value rather than the Rsquared value.\n",
    "\n",
    "#### 2. Overfitting usually happens in complex models. Linear Regression is a fairly simple model. Could overfitting happen in Linear Regression? If so, please explain the scenario in which it could happen and how we can tackle it. (6 pts)\n",
    "\n",
    "Overfitting is a modeling error that occurs when a function or model is too closely fit the training set and getting a drastic difference of fitting in test set.\n",
    "\n",
    "Linear regression can experience overfitting in the below two cases: ",
    "\n",
    "1. When there are outliers in the training data:\n",
    "When the training data contains a significant number of outliers, the slope of the line fit by the linear regression model is affected by it and because of this even if the model performs fairly on the training data, it performs poorly on test data if it does not contain the outliers included in the training data. This can also happen if train and test data are having different distributions.\n",
    "To overcome this, we can verify the validity of the outliers and if they are not, we can remove those from the data and train the model accordingly which will not affect the slope of the line because of the outliers and will perform fairly well on the test data as well. And if the outliers are valid, we should split the training and test data such that both the sets contain these values so that the model can fit the linear regression line considering these values, and perform well on the test data, and not essentially overfitting on the training data. We can also perform kfold cross validation which will average out the splits between training and test data sets and fit model accordingly to reduce overfitting due to training datasets discussed above.\n",
    "\n",
    "2. When too many variables are forced into the model, which are fairly insignificant and can start to overestimate Rsquared\n",
    "In an incremental method, initially when we add more fetures to the model, the model appears to improve the performance by reducing overall error in predicting the dependant variable(Y) given a set of independant variables(X’s). But beyond a certain point (Inflection point), insignificant variables start entering the model, which continue to improve performance on the training data set but the performance starts degrading on the test dataset. At the inflection point, the Rsquared and adjusted Rsquared are equal with increasing number of variables. but beyond this point Rsquared continues to rise whereas adjusted Rsquared deteriorates as it penalises Rsquared for overfitting on training data. \n",
    "To overcome this scenario, we can limit the number of variables used to train our model to the number indicated by the inflection point which will help us eliminate the insignificant variables and eventually reduce the overfitting observed because of including those. We can perform PCA and run the linear model as well which will also reduce the dimensions of the training independant variables.\n"
   ]
  },
  {
   "cell_type": "markdown",
   "metadata": {
    "id": "rTCBgfLxeIi5"
   },
   "source": [
    "# Question 5: Ridge/ Lasso Regression (30 pts)\n",
    "\n",
    "Use the following code to import the California housing prices dataset and linear models in python. The dataset is taken from https://www.kaggle.com/camnugent/california-housing-prices/version/1. We have removed the categorical variables and rows with missing variables to make it easier to run the models."
   ]
  },
  {
   "cell_type": "markdown",
   "metadata": {
    "id": "naMH3EMCm1cA"
   },
   "source": [
    "The data pertains to the houses found in a given California district and some summary stats about them based on the 1990 census data. The columns are as follows:\n",
    "\n",
    "longitude\n",
    "\n",
    "latitude\n",
    "\n",
    "housingmedianage\n",
    "\n",
    "total_rooms\n",
    "\n",
    "total_bedrooms\n",
    "\n",
    "population\n",
    "\n",
    "households\n",
    "\n",
    "median_income\n",
    "\n",
    "medianhousevalue\n",
    "\n",
    "ocean_proximity (this feature has been removed from the csv file since it is an ordinal variable)"
   ]
  },
  {
   "cell_type": "code",
   "execution_count": 1,
   "metadata": {
    "id": "Qhv7UoyilbDV"
   },
   "outputs": [],
   "source": [
    "from sklearn import linear_model\n",
    "from sklearn.metrics import mean_absolute_error\n",
    "import numpy as np\n",
    "import pandas as pd\n",
    "from sklearn.metrics import mean_absolute_error, mean_squared_error,r2_score\n",
    "import random\n",
    "from sklearn import linear_model\n",
    "pd.options.mode.chained_assignment = None\n",
    "\n",
    "\n",
    "df = pd.read_csv(\"housing_data.csv\")\n",
    "X = df.drop(['median_house_value'],axis=1)\n",
    "Y = df['median_house_value']"
   ]
  },
  {
   "cell_type": "code",
   "execution_count": 2,
   "metadata": {
    "colab": {
     "base_uri": "https://localhost:8080/"
    },
    "id": "CTiUIITYezts",
    "outputId": "82a0383b-f064-44f1-9ab8-ed196cf9d44f"
   },
   "outputs": [
    {
     "data": {
      "text/plain": [
       "Index(['longitude', 'latitude', 'housing_median_age', 'total_rooms',\n",
       "       'total_bedrooms', 'population', 'households', 'median_income',\n",
       "       'median_house_value'],\n",
       "      dtype='object')"
      ]
     },
     "execution_count": 2,
     "metadata": {},
     "output_type": "execute_result"
    }
   ],
   "source": [
    "df.columns # Show you all the columns in this file"
   ]
  },
  {
   "cell_type": "code",
   "execution_count": 3,
   "metadata": {
    "colab": {
     "base_uri": "https://localhost:8080/",
     "height": 206
    },
    "id": "li4lFm55fEPg",
    "outputId": "7e8cdc45-720f-4a6f-84af-2992d62fe744"
   },
   "outputs": [
    {
     "data": {
      "text/html": [
       "<div>\n",
       "<style scoped>\n",
       "    .dataframe tbody tr th:only-of-type {\n",
       "        vertical-align: middle;\n",
       "    }\n",
       "\n",
       "    .dataframe tbody tr th {\n",
       "        vertical-align: top;\n",
       "    }\n",
       "\n",
       "    .dataframe thead th {\n",
       "        text-align: right;\n",
       "    }\n",
       "</style>\n",
       "<table border=\"1\" class=\"dataframe\">\n",
       "  <thead>\n",
       "    <tr style=\"text-align: right;\">\n",
       "      <th></th>\n",
       "      <th>longitude</th>\n",
       "      <th>latitude</th>\n",
       "      <th>housing_median_age</th>\n",
       "      <th>total_rooms</th>\n",
       "      <th>total_bedrooms</th>\n",
       "      <th>population</th>\n",
       "      <th>households</th>\n",
       "      <th>median_income</th>\n",
       "      <th>median_house_value</th>\n",
       "    </tr>\n",
       "  </thead>\n",
       "  <tbody>\n",
       "    <tr>\n",
       "      <th>0</th>\n",
       "      <td>-122.23</td>\n",
       "      <td>37.88</td>\n",
       "      <td>41.0</td>\n",
       "      <td>880.0</td>\n",
       "      <td>129.0</td>\n",
       "      <td>322.0</td>\n",
       "      <td>126.0</td>\n",
       "      <td>8.3252</td>\n",
       "      <td>452600.0</td>\n",
       "    </tr>\n",
       "    <tr>\n",
       "      <th>1</th>\n",
       "      <td>-122.22</td>\n",
       "      <td>37.86</td>\n",
       "      <td>21.0</td>\n",
       "      <td>7099.0</td>\n",
       "      <td>1106.0</td>\n",
       "      <td>2401.0</td>\n",
       "      <td>1138.0</td>\n",
       "      <td>8.3014</td>\n",
       "      <td>358500.0</td>\n",
       "    </tr>\n",
       "    <tr>\n",
       "      <th>2</th>\n",
       "      <td>-122.24</td>\n",
       "      <td>37.85</td>\n",
       "      <td>52.0</td>\n",
       "      <td>1467.0</td>\n",
       "      <td>190.0</td>\n",
       "      <td>496.0</td>\n",
       "      <td>177.0</td>\n",
       "      <td>7.2574</td>\n",
       "      <td>352100.0</td>\n",
       "    </tr>\n",
       "    <tr>\n",
       "      <th>3</th>\n",
       "      <td>-122.25</td>\n",
       "      <td>37.85</td>\n",
       "      <td>52.0</td>\n",
       "      <td>1274.0</td>\n",
       "      <td>235.0</td>\n",
       "      <td>558.0</td>\n",
       "      <td>219.0</td>\n",
       "      <td>5.6431</td>\n",
       "      <td>341300.0</td>\n",
       "    </tr>\n",
       "    <tr>\n",
       "      <th>4</th>\n",
       "      <td>-122.25</td>\n",
       "      <td>37.85</td>\n",
       "      <td>52.0</td>\n",
       "      <td>1627.0</td>\n",
       "      <td>280.0</td>\n",
       "      <td>565.0</td>\n",
       "      <td>259.0</td>\n",
       "      <td>3.8462</td>\n",
       "      <td>342200.0</td>\n",
       "    </tr>\n",
       "  </tbody>\n",
       "</table>\n",
       "</div>"
      ],
      "text/plain": [
       "   longitude  latitude  housing_median_age  total_rooms  total_bedrooms  \\\n",
       "0    -122.23     37.88                41.0        880.0           129.0   \n",
       "1    -122.22     37.86                21.0       7099.0          1106.0   \n",
       "2    -122.24     37.85                52.0       1467.0           190.0   \n",
       "3    -122.25     37.85                52.0       1274.0           235.0   \n",
       "4    -122.25     37.85                52.0       1627.0           280.0   \n",
       "\n",
       "   population  households  median_income  median_house_value  \n",
       "0       322.0       126.0         8.3252            452600.0  \n",
       "1      2401.0      1138.0         8.3014            358500.0  \n",
       "2       496.0       177.0         7.2574            352100.0  \n",
       "3       558.0       219.0         5.6431            341300.0  \n",
       "4       565.0       259.0         3.8462            342200.0  "
      ]
     },
     "execution_count": 3,
     "metadata": {},
     "output_type": "execute_result"
    }
   ],
   "source": [
    "df.head() # Show you the first 5 rows in this file"
   ]
  },
  {
   "cell_type": "markdown",
   "metadata": {},
   "source": [
    "#### 1) Split the data into a training set (75% of data) and a test set (25% of data), using the train_test_split function with random_state = 50. Then scale the data (not including target) so that each of the independent variables would have zero mean and unit variance. You can use the sklearn.preprocessing.scale function for this. Print the first 5 rows of the training set after scaling. (2 pts)\n"
   ]
  },
  {
   "cell_type": "code",
   "execution_count": 4,
   "metadata": {
    "id": "J_GJz1PEfSw0"
   },
   "outputs": [
    {
     "name": "stdout",
     "output_type": "stream",
     "text": [
      "          0         1         2         3         4         5         6  \\\n",
      "0 -1.131137  1.910919  1.852903 -0.978590 -1.042943 -0.994072 -1.051209   \n",
      "1 -1.126150  0.766393 -0.926203  0.199464  0.168770  0.548454  0.278543   \n",
      "2  0.708890 -0.700469  1.852903 -1.024236 -1.002233 -0.949205 -1.037964   \n",
      "3 -1.215908  0.621575  1.138276 -0.213200 -0.063515 -0.189159 -0.087006   \n",
      "4  0.863472 -0.709812 -0.290979  0.387584  0.072983  0.272074  0.103715   \n",
      "\n",
      "          7  \n",
      "0 -1.222289  \n",
      "1  0.717610  \n",
      "2 -1.181624  \n",
      "3 -0.696874  \n",
      "4  0.513388  \n"
     ]
    }
   ],
   "source": [
    "#1\n",
    "from pandas import Series, DataFrame\n",
    "import pandas as pd\n",
    "from patsy import dmatrices\n",
    "import warnings\n",
    "from sklearn.model_selection import train_test_split\n",
    "import sklearn\n",
    "\n",
    "Y, X = dmatrices('median_house_value ~ 0 + longitude + latitude + housing_median_age + total_rooms + total_bedrooms + population + households + median_income' , df, return_type='dataframe')\n",
    "y = Y['median_house_value'].values\n",
    "\n",
    "\n",
    "X_train, X_test, y_train, y_test = train_test_split(X, y, test_size=0.25, random_state=50)\n",
    "\n",
    "scaler_c=sklearn.preprocessing.StandardScaler()\n",
    "x_train_scale = scaler_c.fit_transform(X_train)\n",
    "x_test_scale = scaler_c.transform(X_test)\n",
    "\n",
    "x_train_df=pd.DataFrame(x_train_scale)\n",
    "print(x_train_df.head())\n",
    "\n",
    "\n"
   ]
  },
  {
   "cell_type": "code",
   "execution_count": 5,
   "metadata": {},
   "outputs": [
    {
     "name": "stdout",
     "output_type": "stream",
     "text": [
      "Confirming that independent variables have zero mean and unit variance.\n"
     ]
    },
    {
     "data": {
      "text/html": [
       "<div>\n",
       "<style scoped>\n",
       "    .dataframe tbody tr th:only-of-type {\n",
       "        vertical-align: middle;\n",
       "    }\n",
       "\n",
       "    .dataframe tbody tr th {\n",
       "        vertical-align: top;\n",
       "    }\n",
       "\n",
       "    .dataframe thead th {\n",
       "        text-align: right;\n",
       "    }\n",
       "</style>\n",
       "<table border=\"1\" class=\"dataframe\">\n",
       "  <thead>\n",
       "    <tr style=\"text-align: right;\">\n",
       "      <th></th>\n",
       "      <th>0</th>\n",
       "      <th>1</th>\n",
       "      <th>2</th>\n",
       "      <th>3</th>\n",
       "      <th>4</th>\n",
       "      <th>5</th>\n",
       "      <th>6</th>\n",
       "      <th>7</th>\n",
       "    </tr>\n",
       "  </thead>\n",
       "  <tbody>\n",
       "    <tr>\n",
       "      <th>count</th>\n",
       "      <td>1.532400e+04</td>\n",
       "      <td>1.532400e+04</td>\n",
       "      <td>1.532400e+04</td>\n",
       "      <td>1.532400e+04</td>\n",
       "      <td>1.532400e+04</td>\n",
       "      <td>1.532400e+04</td>\n",
       "      <td>1.532400e+04</td>\n",
       "      <td>1.532400e+04</td>\n",
       "    </tr>\n",
       "    <tr>\n",
       "      <th>mean</th>\n",
       "      <td>-5.027160e-14</td>\n",
       "      <td>-9.061605e-16</td>\n",
       "      <td>1.658162e-16</td>\n",
       "      <td>-2.286815e-17</td>\n",
       "      <td>4.257612e-17</td>\n",
       "      <td>2.807073e-17</td>\n",
       "      <td>-4.390739e-17</td>\n",
       "      <td>-1.038535e-14</td>\n",
       "    </tr>\n",
       "    <tr>\n",
       "      <th>std</th>\n",
       "      <td>1.000033e+00</td>\n",
       "      <td>1.000033e+00</td>\n",
       "      <td>1.000033e+00</td>\n",
       "      <td>1.000033e+00</td>\n",
       "      <td>1.000033e+00</td>\n",
       "      <td>1.000033e+00</td>\n",
       "      <td>1.000033e+00</td>\n",
       "      <td>1.000033e+00</td>\n",
       "    </tr>\n",
       "    <tr>\n",
       "      <th>min</th>\n",
       "      <td>-2.382754e+00</td>\n",
       "      <td>-1.447914e+00</td>\n",
       "      <td>-2.196651e+00</td>\n",
       "      <td>-1.209129e+00</td>\n",
       "      <td>-1.280018e+00</td>\n",
       "      <td>-1.268658e+00</td>\n",
       "      <td>-1.313451e+00</td>\n",
       "      <td>-1.776576e+00</td>\n",
       "    </tr>\n",
       "    <tr>\n",
       "      <th>25%</th>\n",
       "      <td>-1.111191e+00</td>\n",
       "      <td>-7.985710e-01</td>\n",
       "      <td>-8.467997e-01</td>\n",
       "      <td>-5.451764e-01</td>\n",
       "      <td>-5.783731e-01</td>\n",
       "      <td>-5.705279e-01</td>\n",
       "      <td>-5.797030e-01</td>\n",
       "      <td>-6.888892e-01</td>\n",
       "    </tr>\n",
       "    <tr>\n",
       "      <th>50%</th>\n",
       "      <td>5.343616e-01</td>\n",
       "      <td>-6.444104e-01</td>\n",
       "      <td>2.663348e-02</td>\n",
       "      <td>-2.334877e-01</td>\n",
       "      <td>-2.455111e-01</td>\n",
       "      <td>-2.286416e-01</td>\n",
       "      <td>-2.326960e-01</td>\n",
       "      <td>-1.733367e-01</td>\n",
       "    </tr>\n",
       "    <tr>\n",
       "      <th>75%</th>\n",
       "      <td>7.787012e-01</td>\n",
       "      <td>9.766118e-01</td>\n",
       "      <td>6.618576e-01</td>\n",
       "      <td>2.358896e-01</td>\n",
       "      <td>2.597686e-01</td>\n",
       "      <td>2.660168e-01</td>\n",
       "      <td>2.758944e-01</td>\n",
       "      <td>4.613806e-01</td>\n",
       "    </tr>\n",
       "    <tr>\n",
       "      <th>max</th>\n",
       "      <td>2.623714e+00</td>\n",
       "      <td>2.947999e+00</td>\n",
       "      <td>1.852903e+00</td>\n",
       "      <td>1.628186e+01</td>\n",
       "      <td>1.181894e+01</td>\n",
       "      <td>3.074572e+01</td>\n",
       "      <td>1.242909e+01</td>\n",
       "      <td>5.891114e+00</td>\n",
       "    </tr>\n",
       "  </tbody>\n",
       "</table>\n",
       "</div>"
      ],
      "text/plain": [
       "                  0             1             2             3             4  \\\n",
       "count  1.532400e+04  1.532400e+04  1.532400e+04  1.532400e+04  1.532400e+04   \n",
       "mean  -5.027160e-14 -9.061605e-16  1.658162e-16 -2.286815e-17  4.257612e-17   \n",
       "std    1.000033e+00  1.000033e+00  1.000033e+00  1.000033e+00  1.000033e+00   \n",
       "min   -2.382754e+00 -1.447914e+00 -2.196651e+00 -1.209129e+00 -1.280018e+00   \n",
       "25%   -1.111191e+00 -7.985710e-01 -8.467997e-01 -5.451764e-01 -5.783731e-01   \n",
       "50%    5.343616e-01 -6.444104e-01  2.663348e-02 -2.334877e-01 -2.455111e-01   \n",
       "75%    7.787012e-01  9.766118e-01  6.618576e-01  2.358896e-01  2.597686e-01   \n",
       "max    2.623714e+00  2.947999e+00  1.852903e+00  1.628186e+01  1.181894e+01   \n",
       "\n",
       "                  5             6             7  \n",
       "count  1.532400e+04  1.532400e+04  1.532400e+04  \n",
       "mean   2.807073e-17 -4.390739e-17 -1.038535e-14  \n",
       "std    1.000033e+00  1.000033e+00  1.000033e+00  \n",
       "min   -1.268658e+00 -1.313451e+00 -1.776576e+00  \n",
       "25%   -5.705279e-01 -5.797030e-01 -6.888892e-01  \n",
       "50%   -2.286416e-01 -2.326960e-01 -1.733367e-01  \n",
       "75%    2.660168e-01  2.758944e-01  4.613806e-01  \n",
       "max    3.074572e+01  1.242909e+01  5.891114e+00  "
      ]
     },
     "execution_count": 5,
     "metadata": {},
     "output_type": "execute_result"
    }
   ],
   "source": [
    "print(\"Confirming that independent variables have zero mean and unit variance.\")\n",
    "x_train_df.describe()\n"
   ]
  },
  {
   "cell_type": "markdown",
   "metadata": {},
   "source": [
    "#### 2) Use sklearn.linear_model.Lasso and sklearn.linear_model.Ridge classes to do a 5-fold cross validation using sklearn's KFold. For the sweep of the regularization parameter, we will look at a grid of values ranging from  α=1010  to  α=10−6 .\n",
    "\n",
    "#### In Python, you can consider this range of values as follows: alpha = 10**numpy.linspace(6,-6,100) so that you can generate 100 uniform values between -6 to 6 as power series.\n",
    "\n",
    "#### Fit the 2 regression models with scaled data and report the best chosen α based on cross validation as well as the corresponding scoring metric. The cross validation should happen on your training data using MSE as the scoring metric. (5 pts)"
   ]
  },
  {
   "cell_type": "code",
   "execution_count": 6,
   "metadata": {},
   "outputs": [
    {
     "name": "stdout",
     "output_type": "stream",
     "text": [
      "Best alpha value for Lasso regression 57.22367659350197\n",
      "Best alpha value for Ridge regression 18.738174228603793\n"
     ]
    }
   ],
   "source": [
    "from sklearn.model_selection import RepeatedKFold\n",
    "import numpy as np\n",
    "from sklearn.linear_model import Lasso, Ridge\n",
    "from sklearn.model_selection import KFold\n",
    "import sklearn.metrics as metrics\n",
    "import matplotlib.pyplot as plt\n",
    "from sklearn.model_selection import cross_val_score\n",
    "from statistics import mean\n",
    "\n",
    "alpha_array=10**np.linspace(10,-6,100)\n",
    "ridge_dict = {}\n",
    "lasso_dict = {}\n",
    "ridge_coefs = {}\n",
    "lasso_coefs = {}\n",
    "cross_val = KFold(n_splits=5)\n",
    "\n",
    "for alpha_val in alpha_array:\n",
    "    ridge = Ridge(alpha = alpha_val)\n",
    "    rmodel = ridge.fit(x_train_scale, y_train)\n",
    "    score = cross_val_score(rmodel, x_train_scale, y_train, scoring='neg_mean_squared_error', cv=cross_val, n_jobs=-1)\n",
    "    ridge_dict[alpha_val] = -1*mean(score)\n",
    "    ridge_coefs[alpha_val]= ridge.coef_\n",
    "    \n",
    "    lasso = Lasso(alpha=alpha_val)\n",
    "    lasso_model = lasso.fit(x_train_scale, y_train)\n",
    "    scores = cross_val_score(lasso_model, x_train_scale, y_train, scoring='neg_mean_squared_error', cv=cross_val, n_jobs=-1)\n",
    "    lasso_dict[alpha_val] = -1*mean(scores)\n",
    "    lasso_coefs[alpha_val]= lasso.coef_\n",
    "\n",
    "print('Best alpha value for Lasso regression', min(lasso_dict,key= lasso_dict.get))\n",
    "print('Best alpha value for Ridge regression', min(ridge_dict,key= ridge_dict.get))\n"
   ]
  },
  {
   "cell_type": "markdown",
   "metadata": {},
   "source": [
    "#### 3) a) Run ridge and lasso regression for all of the α specified above (on training data), and plot the coefficients learned for each of them - there should be one plot each for lasso and ridge, so a total of two plots; different features' weights of each model should be on the same plot with different colors (5 pts).\n"
   ]
  },
  {
   "cell_type": "code",
   "execution_count": 7,
   "metadata": {},
   "outputs": [
    {
     "data": {
      "text/plain": [
       "Text(0.5, 1.0, \"Lasso Coefficients' variation with respect to Alpha values\")"
      ]
     },
     "execution_count": 7,
     "metadata": {},
     "output_type": "execute_result"
    },
    {
     "data": {
      "image/png": "[encoded data removed]",
      "text/plain": [
       "<Figure size 1200x640 with 1 Axes>"
      ]
     },
     "metadata": {
      "needs_background": "light"
     },
     "output_type": "display_data"
    }
   ],
   "source": [
    "import matplotlib.pyplot as plt\n",
    "fig = plt.figure(figsize=(15, 8), dpi=80)\n",
    "\n",
    "ax = plt.gca()\n",
    "ax.plot(alpha_array, lasso_coefs.values())\n",
    "ax.set_xscale('log')\n",
    "plt.axis('tight')\n",
    "plt.xlabel('Alpha')\n",
    "plt.ylabel('Lasso Coefficients')\n",
    "plt.title('Lasso Coefficients\\' variation with respect to Alpha values')\n"
   ]
  },
  {
   "cell_type": "code",
   "execution_count": 8,
   "metadata": {},
   "outputs": [
    {
     "data": {
      "text/plain": [
       "Text(0.5, 1.0, \"Ridge Coefficients' variation with respect to Alpha values\")"
      ]
     },
     "execution_count": 8,
     "metadata": {},
     "output_type": "execute_result"
    },
    {
     "data": {
      "image/png": "[encoded data removed]",
      "text/plain": [
       "<Figure size 1200x640 with 1 Axes>"
      ]
     },
     "metadata": {
      "needs_background": "light"
     },
     "output_type": "display_data"
    }
   ],
   "source": [
    "import matplotlib.pyplot as plt\n",
    "fig = plt.figure(figsize=(15, 8), dpi=80)\n",
    "\n",
    "ax = plt.gca()\n",
    "ax.plot(alpha_array, ridge_coefs.values())\n",
    "ax.set_xscale('log')\n",
    "plt.axis('tight')\n",
    "plt.xlabel('Alpha')\n",
    "plt.ylabel('Ridge Coefficients')\n",
    "plt.title('Ridge Coefficients\\' variation with respect to Alpha values')"
   ]
  },
  {
   "cell_type": "markdown",
   "metadata": {},
   "source": [
    "#### 3) b) What do you qualitatively observe when the value of the regularization parameter changes? (2pts)\n",
    "\n",
    "We see that as the value of Alpha decreases, the value of co-efficients increases. In case of Lasso, the value of co-efficients become 0 for a high value of Alpha, whereas in case of ridge the value of co-efficients are closer to 0 for a high value of Alpha."
   ]
  },
  {
   "cell_type": "markdown",
   "metadata": {},
   "source": [
    "#### 4) a) Similarly, use sklearn.linear_model.ElasticNet to do linear regression with different α values, and plot the coefficients learned for each of them (2 pts).\n",
    "\n"
   ]
  },
  {
   "cell_type": "code",
   "execution_count": 9,
   "metadata": {},
   "outputs": [
    {
     "name": "stdout",
     "output_type": "stream",
     "text": [
      "Best alpha value for Elastic regression 57.22367659350197\n"
     ]
    },
    {
     "data": {
      "text/plain": [
       "Text(90, -20000, 'Alpha=2.8480358684357933e-05')"
      ]
     },
     "execution_count": 9,
     "metadata": {},
     "output_type": "execute_result"
    },
    {
     "data": {
      "image/png": "[encoded data removed]",
      "text/plain": [
       "<Figure size 1200x640 with 1 Axes>"
      ]
     },
     "metadata": {
      "needs_background": "light"
     },
     "output_type": "display_data"
    }
   ],
   "source": [
    "from sklearn.linear_model import ElasticNet\n",
    "\n",
    "coeff_elasticnet = []\n",
    "for alpha_val in alpha_array:\n",
    "    elastic_fit = ElasticNet(alpha=alpha_val).fit(x_train_scale, y_train)\n",
    "    coeff_elasticnet.append(elastic_fit.coef_)\n",
    "    score = cross_val_score(rmodel, x_train_scale, y_train, scoring='neg_mean_squared_error', cv=cross_val, n_jobs=-1)\n",
    "    ridge_dict[alpha_val] = -1*mean(score)\n",
    "    ridge_coefs[alpha_val]= ridge.coef_\n",
    "    \n",
    "print('Best alpha value for Elastic regression', min(lasso_dict,key= lasso_dict.get))\n",
    "\n",
    "fig = plt.figure(figsize=(15, 8), dpi=80)\n",
    "plt.plot(coeff_elasticnet)\n",
    "plt.text(0,0,\"Alpha=\" + str(alpha_array[0]))\n",
    "plt.text(22,0,\"Alpha=\" + str(alpha_array[22]))\n",
    "plt.text(50,75000,\"Alpha=\" + str(alpha_array[50]))\n",
    "plt.text(60,20000,\"Alpha=\" + str(alpha_array[60]))\n",
    "plt.text(90,-20000,\"Alpha=\" + str(alpha_array[90]))"
   ]
  },
  {
   "cell_type": "markdown",
   "metadata": {},
   "source": [
    "#### b) Observe the plot, then explain the pros and cons of ridge, lasso and Elastic Net models. (3pts)\n",
    "\n",
    "##### Pros of Ridge:\n",
    "\n",
    "Ridge regression avoids overfitting a model by introducing penalty terms.\n",
    "\n",
    "##### Cons of Ridge:\n",
    "\n",
    "It reduces the complexity of a model but does not reduce the number of variables as it never makes a coeeficient 0.  Ridge is not good for feature reduction.\n",
    "\n",
    "##### Pros of Lasso:\n",
    "\n",
    "Lasso regression is good for feature reduction as it has the ability to set the coefficients for features to zero for the feature which it thinks are not important.\n",
    "\n",
    "##### Cons of Lasso:\n",
    "\n",
    "If there are two or more highly collinear variables then LASSO regression select one of them randomly which might lead to erroneous model.\n",
    "\n",
    "##### Pros of Elastic Net:\n",
    "\n",
    "Elastic net uses the penalties from both the lasso and ridge to regularize regression models. \n",
    "\n",
    "##### Cons of Elastic Net:\n",
    "\n",
    "Elastic Net has high computational cost as it cross-validates the relative weight of L1 penalty and L2 penalty."
   ]
  },
  {
   "cell_type": "markdown",
   "metadata": {},
   "source": [
    "#### 5) Run the following three regression models with MSE loss on the training data (5 pts):\n",
    "#### For part (b) and (c), use only the best regularization parameters. Report the MSE and R2 on the test data for each of the models.\n",
    "##### a) linear regression without regularization (1pts)"
   ]
  },
  {
   "cell_type": "code",
   "execution_count": 10,
   "metadata": {},
   "outputs": [
    {
     "name": "stdout",
     "output_type": "stream",
     "text": [
      "MSE of Linear regression on train data  4831534611.158462\n",
      "MSE of Linear regression on test data  4861014374.694437\n",
      "MAE of Linear regression on test data  51302.86706597062\n",
      "R2 is  0.6384697484766777\n"
     ]
    }
   ],
   "source": [
    "from sklearn.linear_model import LinearRegression\n",
    "\n",
    "\n",
    "linearreg_fit = LinearRegression().fit(x_train_scale, y_train)\n",
    "print('MSE of Linear regression on train data ',mean_squared_error(linearreg_fit.predict(x_train_scale), y_train))\n",
    "print('MSE of Linear regression on test data ',mean_squared_error(linearreg_fit.predict(x_test_scale), y_test))\n",
    "print('MAE of Linear regression on test data ',mean_absolute_error(linearreg_fit.predict(x_test_scale), y_test))\n",
    "print('R2 is ', r2_score(y_test, linearreg_fit.predict(x_test_scale)))"
   ]
  },
  {
   "cell_type": "markdown",
   "metadata": {},
   "source": [
    "##### 5)b) linear regression with ridge regularization (2pts)"
   ]
  },
  {
   "cell_type": "code",
   "execution_count": 11,
   "metadata": {},
   "outputs": [
    {
     "name": "stdout",
     "output_type": "stream",
     "text": [
      "MSE of Ridge regression on train data  4831924408.835897\n",
      "MSE of Ridge regression on test data  4862528870.887679\n",
      "MAE of Ridge regression on test data  51307.05824545727\n",
      "R2 is  0.6384697484766777\n"
     ]
    }
   ],
   "source": [
    "\n",
    "ridge_fit = Ridge(alpha=18).fit(x_train_scale, y_train)\n",
    "print('MSE of Ridge regression on train data ',mean_squared_error(ridge_fit.predict(x_train_scale), y_train))\n",
    "print('MSE of Ridge regression on test data ',mean_squared_error(ridge_fit.predict(x_test_scale), y_test))\n",
    "print('MAE of Ridge regression on test data ',mean_absolute_error(ridge_fit.predict(x_test_scale), y_test))\n",
    "print('R2 is ', r2_score(y_test, linearreg_fit.predict(x_test_scale)))"
   ]
  },
  {
   "cell_type": "markdown",
   "metadata": {},
   "source": [
    "##### 5)c) linear regression with lasso regularization (2pts)"
   ]
  },
  {
   "cell_type": "code",
   "execution_count": 12,
   "metadata": {},
   "outputs": [
    {
     "name": "stdout",
     "output_type": "stream",
     "text": [
      "MSE of Lasso regression on train data  4831776563.388585\n",
      "MSE of Lasso regression on test data  4861063090.504511\n",
      "MAE of Lasso regression on test data  51312.59766110441\n",
      "R2 is  0.6384697484766777\n"
     ]
    }
   ],
   "source": [
    "\n",
    "lasso_fit = Lasso(alpha=57).fit(x_train_scale, y_train)\n",
    "print('MSE of Lasso regression on train data ',mean_squared_error(lasso_fit.predict(x_train_scale), y_train))\n",
    "print('MSE of Lasso regression on test data ',mean_squared_error(lasso_fit.predict(x_test_scale), y_test))\n",
    "print('MAE of Lasso regression on test data ',mean_absolute_error(lasso_fit.predict(x_test_scale), y_test))\n",
    "print('R2 is ', r2_score(y_test, linearreg_fit.predict(x_test_scale)))"
   ]
  },
  {
   "cell_type": "markdown",
   "metadata": {},
   "source": [
    "#### 6) Train the 3 models and report metrics with the original data without scaling (3pts)"
   ]
  },
  {
   "cell_type": "code",
   "execution_count": 13,
   "metadata": {},
   "outputs": [
    {
     "name": "stdout",
     "output_type": "stream",
     "text": [
      "MSE of Linear regression on unscaled train data\n",
      "4831534611.158463\n",
      "MAE of Linear regression on unscaled train data\n",
      "50623.23687879618\n",
      "MSE of Ridge regression on unscaled train data\n",
      "4831551877.337071\n",
      "MAE of Ridge regression on unscaled train data\n",
      "50620.62808226299\n",
      "MSE of Lasso regression on unscaled train data\n",
      "4831557151.625334\n",
      "MAE of Lasso regression on unscaled train data\n",
      "50620.22011610315\n"
     ]
    }
   ],
   "source": [
    "from sklearn.linear_model import LinearRegression\n",
    "\n",
    "print('MSE of Linear regression on unscaled train data')\n",
    "linear_fit = LinearRegression().fit(X_train, y_train)\n",
    "print(mean_squared_error(linear_fit.predict(X_train), y_train))\n",
    "print('MAE of Linear regression on unscaled train data')\n",
    "print(mean_absolute_error(linear_fit.predict(X_train), y_train))\n",
    "\n",
    "print('MSE of Ridge regression on unscaled train data')\n",
    "ridge_fit = Ridge(alpha=18).fit(X_train, y_train)\n",
    "print(mean_squared_error(ridge_fit.predict(X_train), y_train))\n",
    "print('MAE of Ridge regression on unscaled train data')\n",
    "print(mean_absolute_error(ridge_fit.predict(X_train), y_train))\n",
    "\n",
    "print('MSE of Lasso regression on unscaled train data')\n",
    "lasso_fit = Lasso(alpha=57).fit(X_train, y_train)\n",
    "print(mean_squared_error(lasso_fit.predict(X_train), y_train))\n",
    "print('MAE of Lasso regression on unscaled train data')\n",
    "print(mean_absolute_error(lasso_fit.predict(X_train), y_train))"
   ]
  },
  {
   "cell_type": "markdown",
   "metadata": {},
   "source": [
    "## 7) Why did we have to scale the data in ridge and lasso regression? (3 pts)\n",
    "\n",
    "Scaling ensures that the penalty term penalizes each coefficient equally. Beta coefficients' shrinking depends on the value of the features. Therefore, values of the all features should be standardardized."
   ]
  },
  {
   "cell_type": "code",
   "execution_count": null,
   "metadata": {},
   "outputs": [],
   "source": []
  }
 ],
 "metadata": {
  "colab": {
   "collapsed_sections": [],
   "name": "Advanced_ML_HW1.ipynb",
   "provenance": []
  },
  "kernelspec": {
   "display_name": "Python 3 (ipykernel)",
   "language": "python",
   "name": "python3"
  },
  "language_info": {
   "codemirror_mode": {
    "name": "ipython",
    "version": 3
   },
   "file_extension": ".py",
   "mimetype": "text/x-python",
   "name": "python",
   "nbconvert_exporter": "python",
   "pygments_lexer": "ipython3",
   "version": "3.9.12"
  }
 },
 "nbformat": 4,
 "nbformat_minor": 1
}
