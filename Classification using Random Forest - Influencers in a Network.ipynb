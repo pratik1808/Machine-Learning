{
 "cells": [
  {
   "cell_type": "code",
   "execution_count": 1,
   "id": "6b934c9a",
   "metadata": {
    "_cell_guid": "b1076dfc-b9ad-4769-8c92-a6c4dae69d19",
    "_uuid": "8f2839f25d086af736a60e9eeb907d3b93b6e0e5",
    "execution": {
     "iopub.execute_input": "2023-01-23T23:42:36.824462Z",
     "iopub.status.busy": "2023-01-23T23:42:36.823282Z",
     "iopub.status.idle": "2023-01-23T23:42:36.841305Z",
     "shell.execute_reply": "2023-01-23T23:42:36.839994Z"
    },
    "papermill": {
     "duration": 0.035986,
     "end_time": "2023-01-23T23:42:36.844142",
     "exception": false,
     "start_time": "2023-01-23T23:42:36.808156",
     "status": "completed"
    },
    "tags": []
   },
   "outputs": [
    {
     "name": "stdout",
     "output_type": "stream",
     "text": [
      "/kaggle/input/predict-who-is-more-influential-in-a-social-network/sample_predictions.csv\n",
      "/kaggle/input/predict-who-is-more-influential-in-a-social-network/train.csv\n",
      "/kaggle/input/predict-who-is-more-influential-in-a-social-network/test.csv\n"
     ]
    }
   ],
   "source": [
    "# This Python 3 environment comes with many helpful analytics libraries installed\n",
    "# It is defined by the kaggle/python Docker image: https://github.com/kaggle/docker-python\n",
    "# For example, here's several helpful packages to load\n",
    "\n",
    "import numpy as np # linear algebra\n",
    "import pandas as pd # data processing, CSV file I/O (e.g. pd.read_csv)\n",
    "\n",
    "# Input data files are available in the read-only \"../input/\" directory\n",
    "# For example, running this (by clicking run or pressing Shift+Enter) will list all files under the input directory\n",
    "\n",
    "import os\n",
    "for dirname, _, filenames in os.walk('/kaggle/input'):\n",
    "    for filename in filenames:\n",
    "        print(os.path.join(dirname, filename))\n",
    "\n",
    "# You can write up to 20GB to the current directory (/kaggle/working/) that gets preserved as output when you create a version using \"Save & Run All\" \n",
    "# You can also write temporary files to /kaggle/temp/, but they won't be saved outside of the current session"
   ]
  },
  {
   "cell_type": "code",
   "execution_count": 2,
   "id": "771edd02",
   "metadata": {
    "execution": {
     "iopub.execute_input": "2023-01-23T23:42:36.870432Z",
     "iopub.status.busy": "2023-01-23T23:42:36.869285Z",
     "iopub.status.idle": "2023-01-23T23:42:36.934538Z",
     "shell.execute_reply": "2023-01-23T23:42:36.933283Z"
    },
    "papermill": {
     "duration": 0.081719,
     "end_time": "2023-01-23T23:42:36.937487",
     "exception": false,
     "start_time": "2023-01-23T23:42:36.855768",
     "status": "completed"
    },
    "tags": []
   },
   "outputs": [],
   "source": [
    "train=pd.read_csv(\"/kaggle/input/predict-who-is-more-influential-in-a-social-network/train.csv\")"
   ]
  },
  {
   "cell_type": "code",
   "execution_count": 3,
   "id": "9fc7440c",
   "metadata": {
    "execution": {
     "iopub.execute_input": "2023-01-23T23:42:36.963195Z",
     "iopub.status.busy": "2023-01-23T23:42:36.962693Z",
     "iopub.status.idle": "2023-01-23T23:42:37.003011Z",
     "shell.execute_reply": "2023-01-23T23:42:37.001748Z"
    },
    "papermill": {
     "duration": 0.056843,
     "end_time": "2023-01-23T23:42:37.005800",
     "exception": false,
     "start_time": "2023-01-23T23:42:36.948957",
     "status": "completed"
    },
    "tags": []
   },
   "outputs": [
    {
     "data": {
      "text/html": [
       "<div>\n",
       "<style scoped>\n",
       "    .dataframe tbody tr th:only-of-type {\n",
       "        vertical-align: middle;\n",
       "    }\n",
       "\n",
       "    .dataframe tbody tr th {\n",
       "        vertical-align: top;\n",
       "    }\n",
       "\n",
       "    .dataframe thead th {\n",
       "        text-align: right;\n",
       "    }\n",
       "</style>\n",
       "<table border=\"1\" class=\"dataframe\">\n",
       "  <thead>\n",
       "    <tr style=\"text-align: right;\">\n",
       "      <th></th>\n",
       "      <th>Choice</th>\n",
       "      <th>A_follower_count</th>\n",
       "      <th>A_following_count</th>\n",
       "      <th>A_listed_count</th>\n",
       "      <th>A_mentions_received</th>\n",
       "      <th>A_retweets_received</th>\n",
       "      <th>A_mentions_sent</th>\n",
       "      <th>A_retweets_sent</th>\n",
       "      <th>A_posts</th>\n",
       "      <th>A_network_feature_1</th>\n",
       "      <th>...</th>\n",
       "      <th>B_following_count</th>\n",
       "      <th>B_listed_count</th>\n",
       "      <th>B_mentions_received</th>\n",
       "      <th>B_retweets_received</th>\n",
       "      <th>B_mentions_sent</th>\n",
       "      <th>B_retweets_sent</th>\n",
       "      <th>B_posts</th>\n",
       "      <th>B_network_feature_1</th>\n",
       "      <th>B_network_feature_2</th>\n",
       "      <th>B_network_feature_3</th>\n",
       "    </tr>\n",
       "  </thead>\n",
       "  <tbody>\n",
       "    <tr>\n",
       "      <th>0</th>\n",
       "      <td>0</td>\n",
       "      <td>228</td>\n",
       "      <td>302</td>\n",
       "      <td>3</td>\n",
       "      <td>0.583979</td>\n",
       "      <td>0.100503</td>\n",
       "      <td>0.100503</td>\n",
       "      <td>0.100503</td>\n",
       "      <td>0.362150</td>\n",
       "      <td>2</td>\n",
       "      <td>...</td>\n",
       "      <td>29808</td>\n",
       "      <td>1689</td>\n",
       "      <td>15.430498</td>\n",
       "      <td>3.984029</td>\n",
       "      <td>8.204331</td>\n",
       "      <td>0.332423</td>\n",
       "      <td>6.988815</td>\n",
       "      <td>66</td>\n",
       "      <td>75.530303</td>\n",
       "      <td>1916.893939</td>\n",
       "    </tr>\n",
       "    <tr>\n",
       "      <th>1</th>\n",
       "      <td>0</td>\n",
       "      <td>21591</td>\n",
       "      <td>1179</td>\n",
       "      <td>228</td>\n",
       "      <td>90.456506</td>\n",
       "      <td>25.798292</td>\n",
       "      <td>5.709329</td>\n",
       "      <td>1.111159</td>\n",
       "      <td>5.176620</td>\n",
       "      <td>369</td>\n",
       "      <td>...</td>\n",
       "      <td>848</td>\n",
       "      <td>1610</td>\n",
       "      <td>40.495021</td>\n",
       "      <td>8.943607</td>\n",
       "      <td>3.227677</td>\n",
       "      <td>0.564343</td>\n",
       "      <td>1.070321</td>\n",
       "      <td>163</td>\n",
       "      <td>132.030675</td>\n",
       "      <td>2931.515337</td>\n",
       "    </tr>\n",
       "    <tr>\n",
       "      <th>2</th>\n",
       "      <td>0</td>\n",
       "      <td>7310</td>\n",
       "      <td>1215</td>\n",
       "      <td>101</td>\n",
       "      <td>25.503644</td>\n",
       "      <td>9.556347</td>\n",
       "      <td>5.361519</td>\n",
       "      <td>0.591206</td>\n",
       "      <td>3.589718</td>\n",
       "      <td>95</td>\n",
       "      <td>...</td>\n",
       "      <td>482</td>\n",
       "      <td>206</td>\n",
       "      <td>0.734696</td>\n",
       "      <td>0.354379</td>\n",
       "      <td>0.603202</td>\n",
       "      <td>0.100503</td>\n",
       "      <td>0.603202</td>\n",
       "      <td>3</td>\n",
       "      <td>10.333333</td>\n",
       "      <td>277.333333</td>\n",
       "    </tr>\n",
       "    <tr>\n",
       "      <th>3</th>\n",
       "      <td>0</td>\n",
       "      <td>20</td>\n",
       "      <td>7</td>\n",
       "      <td>2</td>\n",
       "      <td>7.690824</td>\n",
       "      <td>0.277306</td>\n",
       "      <td>1.331508</td>\n",
       "      <td>0.100503</td>\n",
       "      <td>2.830627</td>\n",
       "      <td>6</td>\n",
       "      <td>...</td>\n",
       "      <td>17637</td>\n",
       "      <td>278</td>\n",
       "      <td>572.874856</td>\n",
       "      <td>390.293681</td>\n",
       "      <td>27.552040</td>\n",
       "      <td>7.167557</td>\n",
       "      <td>32.101906</td>\n",
       "      <td>1762</td>\n",
       "      <td>23.469296</td>\n",
       "      <td>1395.845634</td>\n",
       "    </tr>\n",
       "    <tr>\n",
       "      <th>4</th>\n",
       "      <td>1</td>\n",
       "      <td>45589</td>\n",
       "      <td>862</td>\n",
       "      <td>2641</td>\n",
       "      <td>148.854279</td>\n",
       "      <td>36.998884</td>\n",
       "      <td>27.881768</td>\n",
       "      <td>3.333492</td>\n",
       "      <td>23.861282</td>\n",
       "      <td>551</td>\n",
       "      <td>...</td>\n",
       "      <td>1711</td>\n",
       "      <td>181</td>\n",
       "      <td>21.601866</td>\n",
       "      <td>3.581661</td>\n",
       "      <td>6.764657</td>\n",
       "      <td>1.119727</td>\n",
       "      <td>4.563246</td>\n",
       "      <td>85</td>\n",
       "      <td>48.500000</td>\n",
       "      <td>1993.627907</td>\n",
       "    </tr>\n",
       "  </tbody>\n",
       "</table>\n",
       "<p>5 rows × 23 columns</p>\n",
       "</div>"
      ],
      "text/plain": [
       "   Choice  A_follower_count  A_following_count  A_listed_count  \\\n",
       "0       0               228                302               3   \n",
       "1       0             21591               1179             228   \n",
       "2       0              7310               1215             101   \n",
       "3       0                20                  7               2   \n",
       "4       1             45589                862            2641   \n",
       "\n",
       "   A_mentions_received  A_retweets_received  A_mentions_sent  A_retweets_sent  \\\n",
       "0             0.583979             0.100503         0.100503         0.100503   \n",
       "1            90.456506            25.798292         5.709329         1.111159   \n",
       "2            25.503644             9.556347         5.361519         0.591206   \n",
       "3             7.690824             0.277306         1.331508         0.100503   \n",
       "4           148.854279            36.998884        27.881768         3.333492   \n",
       "\n",
       "     A_posts  A_network_feature_1  ...  B_following_count  B_listed_count  \\\n",
       "0   0.362150                    2  ...              29808            1689   \n",
       "1   5.176620                  369  ...                848            1610   \n",
       "2   3.589718                   95  ...                482             206   \n",
       "3   2.830627                    6  ...              17637             278   \n",
       "4  23.861282                  551  ...               1711             181   \n",
       "\n",
       "   B_mentions_received  B_retweets_received  B_mentions_sent  B_retweets_sent  \\\n",
       "0            15.430498             3.984029         8.204331         0.332423   \n",
       "1            40.495021             8.943607         3.227677         0.564343   \n",
       "2             0.734696             0.354379         0.603202         0.100503   \n",
       "3           572.874856           390.293681        27.552040         7.167557   \n",
       "4            21.601866             3.581661         6.764657         1.119727   \n",
       "\n",
       "     B_posts  B_network_feature_1  B_network_feature_2  B_network_feature_3  \n",
       "0   6.988815                   66            75.530303          1916.893939  \n",
       "1   1.070321                  163           132.030675          2931.515337  \n",
       "2   0.603202                    3            10.333333           277.333333  \n",
       "3  32.101906                 1762            23.469296          1395.845634  \n",
       "4   4.563246                   85            48.500000          1993.627907  \n",
       "\n",
       "[5 rows x 23 columns]"
      ]
     },
     "execution_count": 3,
     "metadata": {},
     "output_type": "execute_result"
    }
   ],
   "source": [
    "train.head()"
   ]
  },
  {
   "cell_type": "code",
   "execution_count": 4,
   "id": "d51d27b7",
   "metadata": {
    "execution": {
     "iopub.execute_input": "2023-01-23T23:42:37.033346Z",
     "iopub.status.busy": "2023-01-23T23:42:37.032852Z",
     "iopub.status.idle": "2023-01-23T23:42:37.145485Z",
     "shell.execute_reply": "2023-01-23T23:42:37.143679Z"
    },
    "papermill": {
     "duration": 0.130611,
     "end_time": "2023-01-23T23:42:37.149969",
     "exception": false,
     "start_time": "2023-01-23T23:42:37.019358",
     "status": "completed"
    },
    "tags": []
   },
   "outputs": [
    {
     "data": {
      "text/html": [
       "<div>\n",
       "<style scoped>\n",
       "    .dataframe tbody tr th:only-of-type {\n",
       "        vertical-align: middle;\n",
       "    }\n",
       "\n",
       "    .dataframe tbody tr th {\n",
       "        vertical-align: top;\n",
       "    }\n",
       "\n",
       "    .dataframe thead th {\n",
       "        text-align: right;\n",
       "    }\n",
       "</style>\n",
       "<table border=\"1\" class=\"dataframe\">\n",
       "  <thead>\n",
       "    <tr style=\"text-align: right;\">\n",
       "      <th></th>\n",
       "      <th>Choice</th>\n",
       "      <th>A_follower_count</th>\n",
       "      <th>A_following_count</th>\n",
       "      <th>A_listed_count</th>\n",
       "      <th>A_mentions_received</th>\n",
       "      <th>A_retweets_received</th>\n",
       "      <th>A_mentions_sent</th>\n",
       "      <th>A_retweets_sent</th>\n",
       "      <th>A_posts</th>\n",
       "      <th>A_network_feature_1</th>\n",
       "      <th>...</th>\n",
       "      <th>B_following_count</th>\n",
       "      <th>B_listed_count</th>\n",
       "      <th>B_mentions_received</th>\n",
       "      <th>B_retweets_received</th>\n",
       "      <th>B_mentions_sent</th>\n",
       "      <th>B_retweets_sent</th>\n",
       "      <th>B_posts</th>\n",
       "      <th>B_network_feature_1</th>\n",
       "      <th>B_network_feature_2</th>\n",
       "      <th>B_network_feature_3</th>\n",
       "    </tr>\n",
       "  </thead>\n",
       "  <tbody>\n",
       "    <tr>\n",
       "      <th>count</th>\n",
       "      <td>5500.000000</td>\n",
       "      <td>5.500000e+03</td>\n",
       "      <td>5.500000e+03</td>\n",
       "      <td>5500.000000</td>\n",
       "      <td>5.500000e+03</td>\n",
       "      <td>5500.000000</td>\n",
       "      <td>5500.000000</td>\n",
       "      <td>5500.000000</td>\n",
       "      <td>5500.000000</td>\n",
       "      <td>5500.000000</td>\n",
       "      <td>...</td>\n",
       "      <td>5500.000000</td>\n",
       "      <td>5500.000000</td>\n",
       "      <td>5.500000e+03</td>\n",
       "      <td>5500.000000</td>\n",
       "      <td>5500.000000</td>\n",
       "      <td>5500.000000</td>\n",
       "      <td>5500.000000</td>\n",
       "      <td>5500.000000</td>\n",
       "      <td>5500.000000</td>\n",
       "      <td>5500.000000</td>\n",
       "    </tr>\n",
       "    <tr>\n",
       "      <th>mean</th>\n",
       "      <td>0.509455</td>\n",
       "      <td>6.498840e+05</td>\n",
       "      <td>1.265895e+04</td>\n",
       "      <td>5952.453273</td>\n",
       "      <td>2.666032e+03</td>\n",
       "      <td>1032.371839</td>\n",
       "      <td>6.011873</td>\n",
       "      <td>1.109924</td>\n",
       "      <td>9.090730</td>\n",
       "      <td>5267.768000</td>\n",
       "      <td>...</td>\n",
       "      <td>12738.259818</td>\n",
       "      <td>5903.148364</td>\n",
       "      <td>2.554598e+03</td>\n",
       "      <td>997.149954</td>\n",
       "      <td>6.099658</td>\n",
       "      <td>1.106236</td>\n",
       "      <td>9.505821</td>\n",
       "      <td>5254.933636</td>\n",
       "      <td>85.024196</td>\n",
       "      <td>3745.175480</td>\n",
       "    </tr>\n",
       "    <tr>\n",
       "      <th>std</th>\n",
       "      <td>0.499956</td>\n",
       "      <td>2.028787e+06</td>\n",
       "      <td>4.900867e+04</td>\n",
       "      <td>17339.141191</td>\n",
       "      <td>2.916543e+04</td>\n",
       "      <td>10954.953223</td>\n",
       "      <td>9.519797</td>\n",
       "      <td>1.910104</td>\n",
       "      <td>18.311060</td>\n",
       "      <td>28946.777345</td>\n",
       "      <td>...</td>\n",
       "      <td>50054.520874</td>\n",
       "      <td>16298.462018</td>\n",
       "      <td>2.508873e+04</td>\n",
       "      <td>9342.006880</td>\n",
       "      <td>9.729557</td>\n",
       "      <td>1.939914</td>\n",
       "      <td>19.424680</td>\n",
       "      <td>26778.820125</td>\n",
       "      <td>106.689384</td>\n",
       "      <td>5518.399590</td>\n",
       "    </tr>\n",
       "    <tr>\n",
       "      <th>min</th>\n",
       "      <td>0.000000</td>\n",
       "      <td>1.600000e+01</td>\n",
       "      <td>0.000000e+00</td>\n",
       "      <td>0.000000</td>\n",
       "      <td>1.005034e-01</td>\n",
       "      <td>0.100503</td>\n",
       "      <td>0.100503</td>\n",
       "      <td>0.100503</td>\n",
       "      <td>0.100503</td>\n",
       "      <td>0.000000</td>\n",
       "      <td>...</td>\n",
       "      <td>0.000000</td>\n",
       "      <td>0.000000</td>\n",
       "      <td>1.005034e-01</td>\n",
       "      <td>0.100503</td>\n",
       "      <td>0.100503</td>\n",
       "      <td>0.100503</td>\n",
       "      <td>0.100503</td>\n",
       "      <td>0.000000</td>\n",
       "      <td>0.000000</td>\n",
       "      <td>0.000000</td>\n",
       "    </tr>\n",
       "    <tr>\n",
       "      <th>25%</th>\n",
       "      <td>0.000000</td>\n",
       "      <td>2.663750e+03</td>\n",
       "      <td>3.220000e+02</td>\n",
       "      <td>85.000000</td>\n",
       "      <td>3.453649e+00</td>\n",
       "      <td>0.716816</td>\n",
       "      <td>0.359534</td>\n",
       "      <td>0.100503</td>\n",
       "      <td>0.632440</td>\n",
       "      <td>12.000000</td>\n",
       "      <td>...</td>\n",
       "      <td>322.000000</td>\n",
       "      <td>75.000000</td>\n",
       "      <td>3.260473e+00</td>\n",
       "      <td>0.714556</td>\n",
       "      <td>0.356943</td>\n",
       "      <td>0.100503</td>\n",
       "      <td>0.822584</td>\n",
       "      <td>11.000000</td>\n",
       "      <td>15.176568</td>\n",
       "      <td>1206.500000</td>\n",
       "    </tr>\n",
       "    <tr>\n",
       "      <th>50%</th>\n",
       "      <td>1.000000</td>\n",
       "      <td>4.558900e+04</td>\n",
       "      <td>7.780000e+02</td>\n",
       "      <td>932.000000</td>\n",
       "      <td>4.876542e+01</td>\n",
       "      <td>14.029113</td>\n",
       "      <td>2.299666</td>\n",
       "      <td>0.341936</td>\n",
       "      <td>3.555194</td>\n",
       "      <td>195.000000</td>\n",
       "      <td>...</td>\n",
       "      <td>773.000000</td>\n",
       "      <td>890.000000</td>\n",
       "      <td>4.876542e+01</td>\n",
       "      <td>14.029113</td>\n",
       "      <td>2.251398</td>\n",
       "      <td>0.341936</td>\n",
       "      <td>3.342999</td>\n",
       "      <td>190.000000</td>\n",
       "      <td>54.925234</td>\n",
       "      <td>2206.420734</td>\n",
       "    </tr>\n",
       "    <tr>\n",
       "      <th>75%</th>\n",
       "      <td>1.000000</td>\n",
       "      <td>3.927380e+05</td>\n",
       "      <td>2.838000e+03</td>\n",
       "      <td>6734.000000</td>\n",
       "      <td>3.498196e+02</td>\n",
       "      <td>118.704407</td>\n",
       "      <td>7.198330</td>\n",
       "      <td>1.320681</td>\n",
       "      <td>10.691878</td>\n",
       "      <td>1323.000000</td>\n",
       "      <td>...</td>\n",
       "      <td>2838.000000</td>\n",
       "      <td>6734.000000</td>\n",
       "      <td>3.743699e+02</td>\n",
       "      <td>107.081021</td>\n",
       "      <td>6.866840</td>\n",
       "      <td>1.320681</td>\n",
       "      <td>10.600502</td>\n",
       "      <td>1323.000000</td>\n",
       "      <td>112.191489</td>\n",
       "      <td>4349.908608</td>\n",
       "    </tr>\n",
       "    <tr>\n",
       "      <th>max</th>\n",
       "      <td>1.000000</td>\n",
       "      <td>3.654319e+07</td>\n",
       "      <td>1.165830e+06</td>\n",
       "      <td>549144.000000</td>\n",
       "      <td>1.145219e+06</td>\n",
       "      <td>435825.874241</td>\n",
       "      <td>76.809514</td>\n",
       "      <td>16.290540</td>\n",
       "      <td>193.072418</td>\n",
       "      <td>920838.000000</td>\n",
       "      <td>...</td>\n",
       "      <td>664324.000000</td>\n",
       "      <td>549144.000000</td>\n",
       "      <td>1.145219e+06</td>\n",
       "      <td>435825.874241</td>\n",
       "      <td>76.809514</td>\n",
       "      <td>16.290540</td>\n",
       "      <td>193.072418</td>\n",
       "      <td>920838.000000</td>\n",
       "      <td>1861.583333</td>\n",
       "      <td>75526.083333</td>\n",
       "    </tr>\n",
       "  </tbody>\n",
       "</table>\n",
       "<p>8 rows × 23 columns</p>\n",
       "</div>"
      ],
      "text/plain": [
       "            Choice  A_follower_count  A_following_count  A_listed_count  \\\n",
       "count  5500.000000      5.500000e+03       5.500000e+03     5500.000000   \n",
       "mean      0.509455      6.498840e+05       1.265895e+04     5952.453273   \n",
       "std       0.499956      2.028787e+06       4.900867e+04    17339.141191   \n",
       "min       0.000000      1.600000e+01       0.000000e+00        0.000000   \n",
       "25%       0.000000      2.663750e+03       3.220000e+02       85.000000   \n",
       "50%       1.000000      4.558900e+04       7.780000e+02      932.000000   \n",
       "75%       1.000000      3.927380e+05       2.838000e+03     6734.000000   \n",
       "max       1.000000      3.654319e+07       1.165830e+06   549144.000000   \n",
       "\n",
       "       A_mentions_received  A_retweets_received  A_mentions_sent  \\\n",
       "count         5.500000e+03          5500.000000      5500.000000   \n",
       "mean          2.666032e+03          1032.371839         6.011873   \n",
       "std           2.916543e+04         10954.953223         9.519797   \n",
       "min           1.005034e-01             0.100503         0.100503   \n",
       "25%           3.453649e+00             0.716816         0.359534   \n",
       "50%           4.876542e+01            14.029113         2.299666   \n",
       "75%           3.498196e+02           118.704407         7.198330   \n",
       "max           1.145219e+06        435825.874241        76.809514   \n",
       "\n",
       "       A_retweets_sent      A_posts  A_network_feature_1  ...  \\\n",
       "count      5500.000000  5500.000000          5500.000000  ...   \n",
       "mean          1.109924     9.090730          5267.768000  ...   \n",
       "std           1.910104    18.311060         28946.777345  ...   \n",
       "min           0.100503     0.100503             0.000000  ...   \n",
       "25%           0.100503     0.632440            12.000000  ...   \n",
       "50%           0.341936     3.555194           195.000000  ...   \n",
       "75%           1.320681    10.691878          1323.000000  ...   \n",
       "max          16.290540   193.072418        920838.000000  ...   \n",
       "\n",
       "       B_following_count  B_listed_count  B_mentions_received  \\\n",
       "count        5500.000000     5500.000000         5.500000e+03   \n",
       "mean        12738.259818     5903.148364         2.554598e+03   \n",
       "std         50054.520874    16298.462018         2.508873e+04   \n",
       "min             0.000000        0.000000         1.005034e-01   \n",
       "25%           322.000000       75.000000         3.260473e+00   \n",
       "50%           773.000000      890.000000         4.876542e+01   \n",
       "75%          2838.000000     6734.000000         3.743699e+02   \n",
       "max        664324.000000   549144.000000         1.145219e+06   \n",
       "\n",
       "       B_retweets_received  B_mentions_sent  B_retweets_sent      B_posts  \\\n",
       "count          5500.000000      5500.000000      5500.000000  5500.000000   \n",
       "mean            997.149954         6.099658         1.106236     9.505821   \n",
       "std            9342.006880         9.729557         1.939914    19.424680   \n",
       "min               0.100503         0.100503         0.100503     0.100503   \n",
       "25%               0.714556         0.356943         0.100503     0.822584   \n",
       "50%              14.029113         2.251398         0.341936     3.342999   \n",
       "75%             107.081021         6.866840         1.320681    10.600502   \n",
       "max          435825.874241        76.809514        16.290540   193.072418   \n",
       "\n",
       "       B_network_feature_1  B_network_feature_2  B_network_feature_3  \n",
       "count          5500.000000          5500.000000          5500.000000  \n",
       "mean           5254.933636            85.024196          3745.175480  \n",
       "std           26778.820125           106.689384          5518.399590  \n",
       "min               0.000000             0.000000             0.000000  \n",
       "25%              11.000000            15.176568          1206.500000  \n",
       "50%             190.000000            54.925234          2206.420734  \n",
       "75%            1323.000000           112.191489          4349.908608  \n",
       "max          920838.000000          1861.583333         75526.083333  \n",
       "\n",
       "[8 rows x 23 columns]"
      ]
     },
     "execution_count": 4,
     "metadata": {},
     "output_type": "execute_result"
    }
   ],
   "source": [
    "train.describe()"
   ]
  },
  {
   "cell_type": "code",
   "execution_count": 5,
   "id": "8b530e12",
   "metadata": {
    "execution": {
     "iopub.execute_input": "2023-01-23T23:42:37.192856Z",
     "iopub.status.busy": "2023-01-23T23:42:37.191712Z",
     "iopub.status.idle": "2023-01-23T23:42:37.202102Z",
     "shell.execute_reply": "2023-01-23T23:42:37.201213Z"
    },
    "papermill": {
     "duration": 0.035984,
     "end_time": "2023-01-23T23:42:37.204444",
     "exception": false,
     "start_time": "2023-01-23T23:42:37.168460",
     "status": "completed"
    },
    "tags": []
   },
   "outputs": [
    {
     "data": {
      "text/plain": [
       "Choice                 0\n",
       "A_follower_count       0\n",
       "A_following_count      0\n",
       "A_listed_count         0\n",
       "A_mentions_received    0\n",
       "A_retweets_received    0\n",
       "A_mentions_sent        0\n",
       "A_retweets_sent        0\n",
       "A_posts                0\n",
       "A_network_feature_1    0\n",
       "A_network_feature_2    0\n",
       "A_network_feature_3    0\n",
       "B_follower_count       0\n",
       "B_following_count      0\n",
       "B_listed_count         0\n",
       "B_mentions_received    0\n",
       "B_retweets_received    0\n",
       "B_mentions_sent        0\n",
       "B_retweets_sent        0\n",
       "B_posts                0\n",
       "B_network_feature_1    0\n",
       "B_network_feature_2    0\n",
       "B_network_feature_3    0\n",
       "dtype: int64"
      ]
     },
     "execution_count": 5,
     "metadata": {},
     "output_type": "execute_result"
    }
   ],
   "source": [
    "train.isna().sum()"
   ]
  },
  {
   "cell_type": "code",
   "execution_count": 6,
   "id": "2a7bc243",
   "metadata": {
    "execution": {
     "iopub.execute_input": "2023-01-23T23:42:37.233942Z",
     "iopub.status.busy": "2023-01-23T23:42:37.232542Z",
     "iopub.status.idle": "2023-01-23T23:42:37.241301Z",
     "shell.execute_reply": "2023-01-23T23:42:37.239948Z"
    },
    "papermill": {
     "duration": 0.02653,
     "end_time": "2023-01-23T23:42:37.244067",
     "exception": false,
     "start_time": "2023-01-23T23:42:37.217537",
     "status": "completed"
    },
    "tags": []
   },
   "outputs": [
    {
     "data": {
      "text/plain": [
       "Index(['Choice', 'A_follower_count', 'A_following_count', 'A_listed_count',\n",
       "       'A_mentions_received', 'A_retweets_received', 'A_mentions_sent',\n",
       "       'A_retweets_sent', 'A_posts', 'A_network_feature_1',\n",
       "       'A_network_feature_2', 'A_network_feature_3', 'B_follower_count',\n",
       "       'B_following_count', 'B_listed_count', 'B_mentions_received',\n",
       "       'B_retweets_received', 'B_mentions_sent', 'B_retweets_sent', 'B_posts',\n",
       "       'B_network_feature_1', 'B_network_feature_2', 'B_network_feature_3'],\n",
       "      dtype='object')"
      ]
     },
     "execution_count": 6,
     "metadata": {},
     "output_type": "execute_result"
    }
   ],
   "source": [
    "train.columns"
   ]
  },
  {
   "cell_type": "code",
   "execution_count": 7,
   "id": "87ed51d0",
   "metadata": {
    "execution": {
     "iopub.execute_input": "2023-01-23T23:42:37.271768Z",
     "iopub.status.busy": "2023-01-23T23:42:37.271306Z",
     "iopub.status.idle": "2023-01-23T23:42:37.291496Z",
     "shell.execute_reply": "2023-01-23T23:42:37.289989Z"
    },
    "papermill": {
     "duration": 0.037427,
     "end_time": "2023-01-23T23:42:37.294245",
     "exception": false,
     "start_time": "2023-01-23T23:42:37.256818",
     "status": "completed"
    },
    "tags": []
   },
   "outputs": [
    {
     "name": "stdout",
     "output_type": "stream",
     "text": [
      "<class 'pandas.core.frame.DataFrame'>\n",
      "RangeIndex: 5500 entries, 0 to 5499\n",
      "Data columns (total 23 columns):\n",
      " #   Column               Non-Null Count  Dtype  \n",
      "---  ------               --------------  -----  \n",
      " 0   Choice               5500 non-null   int64  \n",
      " 1   A_follower_count     5500 non-null   int64  \n",
      " 2   A_following_count    5500 non-null   int64  \n",
      " 3   A_listed_count       5500 non-null   int64  \n",
      " 4   A_mentions_received  5500 non-null   float64\n",
      " 5   A_retweets_received  5500 non-null   float64\n",
      " 6   A_mentions_sent      5500 non-null   float64\n",
      " 7   A_retweets_sent      5500 non-null   float64\n",
      " 8   A_posts              5500 non-null   float64\n",
      " 9   A_network_feature_1  5500 non-null   int64  \n",
      " 10  A_network_feature_2  5500 non-null   float64\n",
      " 11  A_network_feature_3  5500 non-null   float64\n",
      " 12  B_follower_count     5500 non-null   int64  \n",
      " 13  B_following_count    5500 non-null   int64  \n",
      " 14  B_listed_count       5500 non-null   int64  \n",
      " 15  B_mentions_received  5500 non-null   float64\n",
      " 16  B_retweets_received  5500 non-null   float64\n",
      " 17  B_mentions_sent      5500 non-null   float64\n",
      " 18  B_retweets_sent      5500 non-null   float64\n",
      " 19  B_posts              5500 non-null   float64\n",
      " 20  B_network_feature_1  5500 non-null   int64  \n",
      " 21  B_network_feature_2  5500 non-null   float64\n",
      " 22  B_network_feature_3  5500 non-null   float64\n",
      "dtypes: float64(14), int64(9)\n",
      "memory usage: 988.4 KB\n"
     ]
    }
   ],
   "source": [
    "train.info()"
   ]
  },
  {
   "cell_type": "code",
   "execution_count": 8,
   "id": "8f85317e",
   "metadata": {
    "execution": {
     "iopub.execute_input": "2023-01-23T23:42:37.323674Z",
     "iopub.status.busy": "2023-01-23T23:42:37.323217Z",
     "iopub.status.idle": "2023-01-23T23:42:38.520672Z",
     "shell.execute_reply": "2023-01-23T23:42:38.519620Z"
    },
    "papermill": {
     "duration": 1.216603,
     "end_time": "2023-01-23T23:42:38.523554",
     "exception": false,
     "start_time": "2023-01-23T23:42:37.306951",
     "status": "completed"
    },
    "tags": []
   },
   "outputs": [],
   "source": [
    "X = train.drop('Choice',axis='columns')\n",
    "y = train['Choice']\n",
    "from sklearn.model_selection import train_test_split\n",
    "X_train, X_test, y_train, y_test = train_test_split(X, y, stratify=y, test_size=0.20, random_state= 15)"
   ]
  },
  {
   "cell_type": "code",
   "execution_count": 9,
   "id": "45467da3",
   "metadata": {
    "execution": {
     "iopub.execute_input": "2023-01-23T23:42:38.552939Z",
     "iopub.status.busy": "2023-01-23T23:42:38.551457Z",
     "iopub.status.idle": "2023-01-23T23:42:38.562226Z",
     "shell.execute_reply": "2023-01-23T23:42:38.560810Z"
    },
    "papermill": {
     "duration": 0.028367,
     "end_time": "2023-01-23T23:42:38.564795",
     "exception": false,
     "start_time": "2023-01-23T23:42:38.536428",
     "status": "completed"
    },
    "tags": []
   },
   "outputs": [
    {
     "data": {
      "text/plain": [
       "1    2242\n",
       "0    2158\n",
       "Name: Choice, dtype: int64"
      ]
     },
     "execution_count": 9,
     "metadata": {},
     "output_type": "execute_result"
    }
   ],
   "source": [
    "y_train.value_counts() #QUITE BALANCED DATASET"
   ]
  },
  {
   "cell_type": "code",
   "execution_count": 10,
   "id": "9fba54d1",
   "metadata": {
    "execution": {
     "iopub.execute_input": "2023-01-23T23:42:38.593102Z",
     "iopub.status.busy": "2023-01-23T23:42:38.592225Z",
     "iopub.status.idle": "2023-01-23T23:42:38.600383Z",
     "shell.execute_reply": "2023-01-23T23:42:38.599353Z"
    },
    "papermill": {
     "duration": 0.02497,
     "end_time": "2023-01-23T23:42:38.602724",
     "exception": false,
     "start_time": "2023-01-23T23:42:38.577754",
     "status": "completed"
    },
    "tags": []
   },
   "outputs": [
    {
     "data": {
      "text/plain": [
       "1    560\n",
       "0    540\n",
       "Name: Choice, dtype: int64"
      ]
     },
     "execution_count": 10,
     "metadata": {},
     "output_type": "execute_result"
    }
   ],
   "source": [
    "y_test.value_counts()"
   ]
  },
  {
   "cell_type": "markdown",
   "id": "c37d8fc9",
   "metadata": {
    "papermill": {
     "duration": 0.012511,
     "end_time": "2023-01-23T23:42:38.628998",
     "exception": false,
     "start_time": "2023-01-23T23:42:38.616487",
     "status": "completed"
    },
    "tags": []
   },
   "source": [
    "Classifier without standardization"
   ]
  },
  {
   "cell_type": "code",
   "execution_count": 11,
   "id": "d0873ac6",
   "metadata": {
    "execution": {
     "iopub.execute_input": "2023-01-23T23:42:38.657874Z",
     "iopub.status.busy": "2023-01-23T23:42:38.657342Z",
     "iopub.status.idle": "2023-01-23T23:42:38.855503Z",
     "shell.execute_reply": "2023-01-23T23:42:38.854225Z"
    },
    "papermill": {
     "duration": 0.215821,
     "end_time": "2023-01-23T23:42:38.858372",
     "exception": false,
     "start_time": "2023-01-23T23:42:38.642551",
     "status": "completed"
    },
    "tags": []
   },
   "outputs": [],
   "source": [
    "from sklearn.ensemble import RandomForestClassifier\n",
    "from sklearn.metrics import plot_confusion_matrix, plot_roc_curve, plot_precision_recall_curve\n",
    "from sklearn import tree\n",
    "from sklearn.metrics import confusion_matrix\n",
    "from sklearn.metrics import accuracy_score, precision_score, recall_score, f1_score\n",
    "from sklearn.metrics import classification_report\n",
    "from sklearn.model_selection import GridSearchCV\n",
    "import matplotlib.pyplot as plt\n",
    "from sklearn.metrics import roc_curve\n",
    "from sklearn import metrics\n",
    "from sklearn.metrics import roc_auc_score\n",
    "from sklearn.metrics import accuracy_score, precision_score, recall_score, f1_score"
   ]
  },
  {
   "cell_type": "code",
   "execution_count": 12,
   "id": "b9a3325f",
   "metadata": {
    "execution": {
     "iopub.execute_input": "2023-01-23T23:42:38.886424Z",
     "iopub.status.busy": "2023-01-23T23:42:38.885937Z",
     "iopub.status.idle": "2023-01-23T23:42:38.892040Z",
     "shell.execute_reply": "2023-01-23T23:42:38.890857Z"
    },
    "papermill": {
     "duration": 0.022712,
     "end_time": "2023-01-23T23:42:38.894339",
     "exception": false,
     "start_time": "2023-01-23T23:42:38.871627",
     "status": "completed"
    },
    "tags": []
   },
   "outputs": [],
   "source": [
    "clf = RandomForestClassifier(random_state=18)\n",
    "param_grid = {\n",
    "                 'n_estimators': [5, 10, 15, 20, 50, 100],\n",
    "                 'max_depth': [2, 5, 7, 9]\n",
    "             }"
   ]
  },
  {
   "cell_type": "code",
   "execution_count": 13,
   "id": "02dda612",
   "metadata": {
    "execution": {
     "iopub.execute_input": "2023-01-23T23:42:38.923023Z",
     "iopub.status.busy": "2023-01-23T23:42:38.922516Z",
     "iopub.status.idle": "2023-01-23T23:43:32.497212Z",
     "shell.execute_reply": "2023-01-23T23:43:32.496164Z"
    },
    "papermill": {
     "duration": 53.604666,
     "end_time": "2023-01-23T23:43:32.512911",
     "exception": false,
     "start_time": "2023-01-23T23:42:38.908245",
     "status": "completed"
    },
    "tags": []
   },
   "outputs": [
    {
     "data": {
      "text/plain": [
       "GridSearchCV(cv=10, estimator=RandomForestClassifier(random_state=18),\n",
       "             param_grid={'max_depth': [2, 5, 7, 9],\n",
       "                         'n_estimators': [5, 10, 15, 20, 50, 100]})"
      ]
     },
     "execution_count": 13,
     "metadata": {},
     "output_type": "execute_result"
    }
   ],
   "source": [
    "grid_clf = GridSearchCV(clf, param_grid, cv=10)\n",
    "grid_clf.fit(X_train,y_train)"
   ]
  },
  {
   "cell_type": "code",
   "execution_count": 14,
   "id": "54169eea",
   "metadata": {
    "execution": {
     "iopub.execute_input": "2023-01-23T23:43:32.542424Z",
     "iopub.status.busy": "2023-01-23T23:43:32.541049Z",
     "iopub.status.idle": "2023-01-23T23:43:32.549617Z",
     "shell.execute_reply": "2023-01-23T23:43:32.548393Z"
    },
    "papermill": {
     "duration": 0.026432,
     "end_time": "2023-01-23T23:43:32.552171",
     "exception": false,
     "start_time": "2023-01-23T23:43:32.525739",
     "status": "completed"
    },
    "tags": []
   },
   "outputs": [
    {
     "data": {
      "text/plain": [
       "{'max_depth': 9, 'n_estimators': 50}"
      ]
     },
     "execution_count": 14,
     "metadata": {},
     "output_type": "execute_result"
    }
   ],
   "source": [
    "grid_clf.best_params_"
   ]
  },
  {
   "cell_type": "code",
   "execution_count": 15,
   "id": "7fa078c9",
   "metadata": {
    "execution": {
     "iopub.execute_input": "2023-01-23T23:43:32.580925Z",
     "iopub.status.busy": "2023-01-23T23:43:32.579798Z",
     "iopub.status.idle": "2023-01-23T23:43:32.586077Z",
     "shell.execute_reply": "2023-01-23T23:43:32.584833Z"
    },
    "papermill": {
     "duration": 0.023313,
     "end_time": "2023-01-23T23:43:32.588619",
     "exception": false,
     "start_time": "2023-01-23T23:43:32.565306",
     "status": "completed"
    },
    "tags": []
   },
   "outputs": [],
   "source": [
    "rf=RandomForestClassifier(max_depth=9, n_estimators= 50)"
   ]
  },
  {
   "cell_type": "code",
   "execution_count": 16,
   "id": "3c3adf4e",
   "metadata": {
    "execution": {
     "iopub.execute_input": "2023-01-23T23:43:32.617265Z",
     "iopub.status.busy": "2023-01-23T23:43:32.616402Z",
     "iopub.status.idle": "2023-01-23T23:43:33.092874Z",
     "shell.execute_reply": "2023-01-23T23:43:33.091949Z"
    },
    "papermill": {
     "duration": 0.493675,
     "end_time": "2023-01-23T23:43:33.095297",
     "exception": false,
     "start_time": "2023-01-23T23:43:32.601622",
     "status": "completed"
    },
    "tags": []
   },
   "outputs": [
    {
     "data": {
      "text/plain": [
       "RandomForestClassifier(max_depth=9, n_estimators=50)"
      ]
     },
     "execution_count": 16,
     "metadata": {},
     "output_type": "execute_result"
    }
   ],
   "source": [
    "rf.fit(X_train,y_train)"
   ]
  },
  {
   "cell_type": "code",
   "execution_count": 17,
   "id": "9dc29b46",
   "metadata": {
    "execution": {
     "iopub.execute_input": "2023-01-23T23:43:33.124441Z",
     "iopub.status.busy": "2023-01-23T23:43:33.123111Z",
     "iopub.status.idle": "2023-01-23T23:43:33.148525Z",
     "shell.execute_reply": "2023-01-23T23:43:33.147548Z"
    },
    "papermill": {
     "duration": 0.042961,
     "end_time": "2023-01-23T23:43:33.151389",
     "exception": false,
     "start_time": "2023-01-23T23:43:33.108428",
     "status": "completed"
    },
    "tags": []
   },
   "outputs": [],
   "source": [
    "ypred = rf.predict(X_test)"
   ]
  },
  {
   "cell_type": "code",
   "execution_count": 18,
   "id": "f9af44d7",
   "metadata": {
    "execution": {
     "iopub.execute_input": "2023-01-23T23:43:33.181089Z",
     "iopub.status.busy": "2023-01-23T23:43:33.179694Z",
     "iopub.status.idle": "2023-01-23T23:43:33.188784Z",
     "shell.execute_reply": "2023-01-23T23:43:33.187069Z"
    },
    "papermill": {
     "duration": 0.027227,
     "end_time": "2023-01-23T23:43:33.192155",
     "exception": false,
     "start_time": "2023-01-23T23:43:33.164928",
     "status": "completed"
    },
    "tags": []
   },
   "outputs": [
    {
     "name": "stdout",
     "output_type": "stream",
     "text": [
      "Confusion Matrix for Validation set using Decision Tree classifer:\n",
      " [[417 123]\n",
      " [127 433]]\n"
     ]
    }
   ],
   "source": [
    "cm=confusion_matrix(y_test, ypred)\n",
    "\n",
    "print(\"Confusion Matrix for Validation set using Decision Tree classifer:\\n\",cm)"
   ]
  },
  {
   "cell_type": "code",
   "execution_count": 19,
   "id": "54e79486",
   "metadata": {
    "execution": {
     "iopub.execute_input": "2023-01-23T23:43:33.220980Z",
     "iopub.status.busy": "2023-01-23T23:43:33.220220Z",
     "iopub.status.idle": "2023-01-23T23:43:33.490087Z",
     "shell.execute_reply": "2023-01-23T23:43:33.488834Z"
    },
    "papermill": {
     "duration": 0.287571,
     "end_time": "2023-01-23T23:43:33.492930",
     "exception": false,
     "start_time": "2023-01-23T23:43:33.205359",
     "status": "completed"
    },
    "tags": []
   },
   "outputs": [
    {
     "name": "stdout",
     "output_type": "stream",
     "text": [
      "Random Forest, AUC=0.8599\n"
     ]
    },
    {
     "data": {
      "image/png": "[encoded data removed]",
      "text/plain": [
       "<Figure size 720x576 with 1 Axes>"
      ]
     },
     "metadata": {
      "needs_background": "light"
     },
     "output_type": "display_data"
    }
   ],
   "source": [
    "# Plot ROC curves - for validation set\n",
    "\n",
    "plt.figure(figsize = (10,8))\n",
    "dt_probs = rf.predict_proba(X_test)\n",
    "dt_probs = dt_probs[:, 1]\n",
    "fpr, tpr, _ = metrics.roc_curve(y_test, dt_probs)\n",
    "auc = round(metrics.roc_auc_score(y_test, dt_probs), 4)\n",
    "plt.plot(fpr,tpr)\n",
    "print(\"Random Forest, AUC=\"+str(auc))"
   ]
  },
  {
   "cell_type": "code",
   "execution_count": 20,
   "id": "29f6713f",
   "metadata": {
    "execution": {
     "iopub.execute_input": "2023-01-23T23:43:33.523380Z",
     "iopub.status.busy": "2023-01-23T23:43:33.522213Z",
     "iopub.status.idle": "2023-01-23T23:43:33.812830Z",
     "shell.execute_reply": "2023-01-23T23:43:33.811596Z"
    },
    "papermill": {
     "duration": 0.308964,
     "end_time": "2023-01-23T23:43:33.815460",
     "exception": false,
     "start_time": "2023-01-23T23:43:33.506496",
     "status": "completed"
    },
    "tags": []
   },
   "outputs": [
    {
     "data": {
      "text/plain": [
       "Text(0.5, 0, 'Random Forest Feature Importance')"
      ]
     },
     "execution_count": 20,
     "metadata": {},
     "output_type": "execute_result"
    },
    {
     "data": {
      "image/png": "[encoded data removed]",
      "text/plain": [
       "<Figure size 720x576 with 1 Axes>"
      ]
     },
     "metadata": {
      "needs_background": "light"
     },
     "output_type": "display_data"
    }
   ],
   "source": [
    "plt.figure(figsize = (10,8))\n",
    "sorted_idx = rf.feature_importances_.argsort()\n",
    "plt.barh(X.columns[sorted_idx], rf.feature_importances_[sorted_idx])\n",
    "plt.xlabel(\"Random Forest Feature Importance\")"
   ]
  },
  {
   "cell_type": "code",
   "execution_count": 21,
   "id": "21d69947",
   "metadata": {
    "execution": {
     "iopub.execute_input": "2023-01-23T23:43:33.846055Z",
     "iopub.status.busy": "2023-01-23T23:43:33.845582Z",
     "iopub.status.idle": "2023-01-23T23:43:33.852731Z",
     "shell.execute_reply": "2023-01-23T23:43:33.851665Z"
    },
    "papermill": {
     "duration": 0.025359,
     "end_time": "2023-01-23T23:43:33.855160",
     "exception": false,
     "start_time": "2023-01-23T23:43:33.829801",
     "status": "completed"
    },
    "tags": []
   },
   "outputs": [
    {
     "name": "stdout",
     "output_type": "stream",
     "text": [
      "Accuracy Score for Test set using Random Forest classifer: 0.8\n"
     ]
    }
   ],
   "source": [
    "print(\"Accuracy Score for Test set using Random Forest classifer:\",round(accuracy_score(y_test, ypred),1))"
   ]
  },
  {
   "cell_type": "markdown",
   "id": "3e06ea39",
   "metadata": {
    "papermill": {
     "duration": 0.013505,
     "end_time": "2023-01-23T23:43:33.882727",
     "exception": false,
     "start_time": "2023-01-23T23:43:33.869222",
     "status": "completed"
    },
    "tags": []
   },
   "source": [
    "With Standardization"
   ]
  },
  {
   "cell_type": "code",
   "execution_count": 22,
   "id": "558b3b6b",
   "metadata": {
    "execution": {
     "iopub.execute_input": "2023-01-23T23:43:33.913958Z",
     "iopub.status.busy": "2023-01-23T23:43:33.913501Z",
     "iopub.status.idle": "2023-01-23T23:43:33.918401Z",
     "shell.execute_reply": "2023-01-23T23:43:33.917418Z"
    },
    "papermill": {
     "duration": 0.023763,
     "end_time": "2023-01-23T23:43:33.920656",
     "exception": false,
     "start_time": "2023-01-23T23:43:33.896893",
     "status": "completed"
    },
    "tags": []
   },
   "outputs": [],
   "source": [
    "from sklearn.preprocessing import StandardScaler"
   ]
  },
  {
   "cell_type": "code",
   "execution_count": 23,
   "id": "1dc36b52",
   "metadata": {
    "execution": {
     "iopub.execute_input": "2023-01-23T23:43:33.951953Z",
     "iopub.status.busy": "2023-01-23T23:43:33.951083Z",
     "iopub.status.idle": "2023-01-23T23:43:33.965825Z",
     "shell.execute_reply": "2023-01-23T23:43:33.964806Z"
    },
    "papermill": {
     "duration": 0.033272,
     "end_time": "2023-01-23T23:43:33.968453",
     "exception": false,
     "start_time": "2023-01-23T23:43:33.935181",
     "status": "completed"
    },
    "tags": []
   },
   "outputs": [],
   "source": [
    "normalized_df=(X-X.mean())/X.std()"
   ]
  },
  {
   "cell_type": "code",
   "execution_count": 24,
   "id": "8ea3914f",
   "metadata": {
    "execution": {
     "iopub.execute_input": "2023-01-23T23:43:34.000381Z",
     "iopub.status.busy": "2023-01-23T23:43:33.999858Z",
     "iopub.status.idle": "2023-01-23T23:43:34.040073Z",
     "shell.execute_reply": "2023-01-23T23:43:34.038879Z"
    },
    "papermill": {
     "duration": 0.059154,
     "end_time": "2023-01-23T23:43:34.042711",
     "exception": false,
     "start_time": "2023-01-23T23:43:33.983557",
     "status": "completed"
    },
    "tags": []
   },
   "outputs": [
    {
     "data": {
      "text/html": [
       "<div>\n",
       "<style scoped>\n",
       "    .dataframe tbody tr th:only-of-type {\n",
       "        vertical-align: middle;\n",
       "    }\n",
       "\n",
       "    .dataframe tbody tr th {\n",
       "        vertical-align: top;\n",
       "    }\n",
       "\n",
       "    .dataframe thead th {\n",
       "        text-align: right;\n",
       "    }\n",
       "</style>\n",
       "<table border=\"1\" class=\"dataframe\">\n",
       "  <thead>\n",
       "    <tr style=\"text-align: right;\">\n",
       "      <th></th>\n",
       "      <th>A_follower_count</th>\n",
       "      <th>A_following_count</th>\n",
       "      <th>A_listed_count</th>\n",
       "      <th>A_mentions_received</th>\n",
       "      <th>A_retweets_received</th>\n",
       "      <th>A_mentions_sent</th>\n",
       "      <th>A_retweets_sent</th>\n",
       "      <th>A_posts</th>\n",
       "      <th>A_network_feature_1</th>\n",
       "      <th>A_network_feature_2</th>\n",
       "      <th>...</th>\n",
       "      <th>B_following_count</th>\n",
       "      <th>B_listed_count</th>\n",
       "      <th>B_mentions_received</th>\n",
       "      <th>B_retweets_received</th>\n",
       "      <th>B_mentions_sent</th>\n",
       "      <th>B_retweets_sent</th>\n",
       "      <th>B_posts</th>\n",
       "      <th>B_network_feature_1</th>\n",
       "      <th>B_network_feature_2</th>\n",
       "      <th>B_network_feature_3</th>\n",
       "    </tr>\n",
       "  </thead>\n",
       "  <tbody>\n",
       "    <tr>\n",
       "      <th>0</th>\n",
       "      <td>-0.320219</td>\n",
       "      <td>-0.252138</td>\n",
       "      <td>-0.343123</td>\n",
       "      <td>-0.091391</td>\n",
       "      <td>-0.094229</td>\n",
       "      <td>-0.620955</td>\n",
       "      <td>-0.528464</td>\n",
       "      <td>-0.476683</td>\n",
       "      <td>-0.181912</td>\n",
       "      <td>0.784974</td>\n",
       "      <td>...</td>\n",
       "      <td>0.341023</td>\n",
       "      <td>-0.258561</td>\n",
       "      <td>-0.101207</td>\n",
       "      <td>-0.106312</td>\n",
       "      <td>0.216318</td>\n",
       "      <td>-0.398890</td>\n",
       "      <td>-0.129578</td>\n",
       "      <td>-0.193770</td>\n",
       "      <td>-0.088986</td>\n",
       "      <td>-0.331306</td>\n",
       "    </tr>\n",
       "    <tr>\n",
       "      <th>1</th>\n",
       "      <td>-0.309689</td>\n",
       "      <td>-0.234243</td>\n",
       "      <td>-0.330146</td>\n",
       "      <td>-0.088309</td>\n",
       "      <td>-0.091883</td>\n",
       "      <td>-0.031780</td>\n",
       "      <td>0.000646</td>\n",
       "      <td>-0.213757</td>\n",
       "      <td>-0.169234</td>\n",
       "      <td>-0.637650</td>\n",
       "      <td>...</td>\n",
       "      <td>-0.237546</td>\n",
       "      <td>-0.263408</td>\n",
       "      <td>-0.100208</td>\n",
       "      <td>-0.105781</td>\n",
       "      <td>-0.295181</td>\n",
       "      <td>-0.279339</td>\n",
       "      <td>-0.434267</td>\n",
       "      <td>-0.190148</td>\n",
       "      <td>0.440592</td>\n",
       "      <td>-0.147445</td>\n",
       "    </tr>\n",
       "    <tr>\n",
       "      <th>2</th>\n",
       "      <td>-0.316728</td>\n",
       "      <td>-0.233509</td>\n",
       "      <td>-0.337471</td>\n",
       "      <td>-0.090536</td>\n",
       "      <td>-0.093366</td>\n",
       "      <td>-0.068316</td>\n",
       "      <td>-0.271566</td>\n",
       "      <td>-0.300420</td>\n",
       "      <td>-0.178699</td>\n",
       "      <td>-0.152560</td>\n",
       "      <td>...</td>\n",
       "      <td>-0.244858</td>\n",
       "      <td>-0.349551</td>\n",
       "      <td>-0.101793</td>\n",
       "      <td>-0.106700</td>\n",
       "      <td>-0.564923</td>\n",
       "      <td>-0.518442</td>\n",
       "      <td>-0.458315</td>\n",
       "      <td>-0.196123</td>\n",
       "      <td>-0.700078</td>\n",
       "      <td>-0.628414</td>\n",
       "    </tr>\n",
       "    <tr>\n",
       "      <th>3</th>\n",
       "      <td>-0.320321</td>\n",
       "      <td>-0.258157</td>\n",
       "      <td>-0.343180</td>\n",
       "      <td>-0.091147</td>\n",
       "      <td>-0.094213</td>\n",
       "      <td>-0.491645</td>\n",
       "      <td>-0.528464</td>\n",
       "      <td>-0.341876</td>\n",
       "      <td>-0.181774</td>\n",
       "      <td>-0.795644</td>\n",
       "      <td>...</td>\n",
       "      <td>0.097868</td>\n",
       "      <td>-0.345134</td>\n",
       "      <td>-0.078989</td>\n",
       "      <td>-0.064960</td>\n",
       "      <td>2.204867</td>\n",
       "      <td>3.124530</td>\n",
       "      <td>1.163267</td>\n",
       "      <td>-0.130436</td>\n",
       "      <td>-0.576954</td>\n",
       "      <td>-0.425727</td>\n",
       "    </tr>\n",
       "    <tr>\n",
       "      <th>4</th>\n",
       "      <td>-0.297860</td>\n",
       "      <td>-0.240711</td>\n",
       "      <td>-0.190981</td>\n",
       "      <td>-0.086307</td>\n",
       "      <td>-0.090861</td>\n",
       "      <td>2.297307</td>\n",
       "      <td>1.164108</td>\n",
       "      <td>0.806646</td>\n",
       "      <td>-0.162946</td>\n",
       "      <td>0.409318</td>\n",
       "      <td>...</td>\n",
       "      <td>-0.220305</td>\n",
       "      <td>-0.351085</td>\n",
       "      <td>-0.100962</td>\n",
       "      <td>-0.106355</td>\n",
       "      <td>0.068348</td>\n",
       "      <td>0.006954</td>\n",
       "      <td>-0.254448</td>\n",
       "      <td>-0.193061</td>\n",
       "      <td>-0.342341</td>\n",
       "      <td>-0.317401</td>\n",
       "    </tr>\n",
       "    <tr>\n",
       "      <th>...</th>\n",
       "      <td>...</td>\n",
       "      <td>...</td>\n",
       "      <td>...</td>\n",
       "      <td>...</td>\n",
       "      <td>...</td>\n",
       "      <td>...</td>\n",
       "      <td>...</td>\n",
       "      <td>...</td>\n",
       "      <td>...</td>\n",
       "      <td>...</td>\n",
       "      <td>...</td>\n",
       "      <td>...</td>\n",
       "      <td>...</td>\n",
       "      <td>...</td>\n",
       "      <td>...</td>\n",
       "      <td>...</td>\n",
       "      <td>...</td>\n",
       "      <td>...</td>\n",
       "      <td>...</td>\n",
       "      <td>...</td>\n",
       "      <td>...</td>\n",
       "    </tr>\n",
       "    <tr>\n",
       "      <th>5495</th>\n",
       "      <td>-0.299745</td>\n",
       "      <td>-0.254525</td>\n",
       "      <td>-0.265091</td>\n",
       "      <td>-0.038964</td>\n",
       "      <td>-0.068418</td>\n",
       "      <td>7.436885</td>\n",
       "      <td>2.241892</td>\n",
       "      <td>5.207120</td>\n",
       "      <td>-0.067737</td>\n",
       "      <td>-0.333161</td>\n",
       "      <td>...</td>\n",
       "      <td>-0.227118</td>\n",
       "      <td>0.566916</td>\n",
       "      <td>0.172463</td>\n",
       "      <td>0.429939</td>\n",
       "      <td>1.704443</td>\n",
       "      <td>0.659463</td>\n",
       "      <td>0.458960</td>\n",
       "      <td>0.698428</td>\n",
       "      <td>-0.597053</td>\n",
       "      <td>-0.422469</td>\n",
       "    </tr>\n",
       "    <tr>\n",
       "      <th>5496</th>\n",
       "      <td>-0.320276</td>\n",
       "      <td>-0.253342</td>\n",
       "      <td>-0.343007</td>\n",
       "      <td>-0.091361</td>\n",
       "      <td>-0.094229</td>\n",
       "      <td>-0.620955</td>\n",
       "      <td>-0.528464</td>\n",
       "      <td>-0.463521</td>\n",
       "      <td>-0.181808</td>\n",
       "      <td>0.113332</td>\n",
       "      <td>...</td>\n",
       "      <td>-0.244918</td>\n",
       "      <td>-0.361700</td>\n",
       "      <td>-0.101810</td>\n",
       "      <td>-0.106706</td>\n",
       "      <td>-0.616591</td>\n",
       "      <td>-0.518442</td>\n",
       "      <td>-0.405867</td>\n",
       "      <td>-0.196197</td>\n",
       "      <td>-0.337655</td>\n",
       "      <td>0.221772</td>\n",
       "    </tr>\n",
       "    <tr>\n",
       "      <th>5497</th>\n",
       "      <td>-0.312748</td>\n",
       "      <td>-0.244568</td>\n",
       "      <td>-0.300214</td>\n",
       "      <td>-0.089491</td>\n",
       "      <td>-0.092200</td>\n",
       "      <td>0.098149</td>\n",
       "      <td>-0.402066</td>\n",
       "      <td>-0.141267</td>\n",
       "      <td>-0.175003</td>\n",
       "      <td>0.650407</td>\n",
       "      <td>...</td>\n",
       "      <td>-0.220305</td>\n",
       "      <td>-0.351085</td>\n",
       "      <td>-0.100962</td>\n",
       "      <td>-0.106355</td>\n",
       "      <td>0.068348</td>\n",
       "      <td>0.006954</td>\n",
       "      <td>-0.254448</td>\n",
       "      <td>-0.193061</td>\n",
       "      <td>-0.342341</td>\n",
       "      <td>-0.317401</td>\n",
       "    </tr>\n",
       "    <tr>\n",
       "      <th>5498</th>\n",
       "      <td>-0.189584</td>\n",
       "      <td>-0.254036</td>\n",
       "      <td>-0.311518</td>\n",
       "      <td>-0.069744</td>\n",
       "      <td>-0.052462</td>\n",
       "      <td>-0.057868</td>\n",
       "      <td>-0.528464</td>\n",
       "      <td>-0.086975</td>\n",
       "      <td>-0.092058</td>\n",
       "      <td>-0.778096</td>\n",
       "      <td>...</td>\n",
       "      <td>0.496713</td>\n",
       "      <td>1.001865</td>\n",
       "      <td>-0.094786</td>\n",
       "      <td>-0.102207</td>\n",
       "      <td>0.077040</td>\n",
       "      <td>0.123117</td>\n",
       "      <td>-0.264918</td>\n",
       "      <td>-0.170244</td>\n",
       "      <td>1.399519</td>\n",
       "      <td>0.620341</td>\n",
       "    </tr>\n",
       "    <tr>\n",
       "      <th>5499</th>\n",
       "      <td>-0.320022</td>\n",
       "      <td>-0.239508</td>\n",
       "      <td>-0.342950</td>\n",
       "      <td>-0.091275</td>\n",
       "      <td>-0.094181</td>\n",
       "      <td>-0.130459</td>\n",
       "      <td>-0.125537</td>\n",
       "      <td>-0.335180</td>\n",
       "      <td>-0.181705</td>\n",
       "      <td>1.208955</td>\n",
       "      <td>...</td>\n",
       "      <td>-0.192375</td>\n",
       "      <td>0.421442</td>\n",
       "      <td>-0.089395</td>\n",
       "      <td>-0.091470</td>\n",
       "      <td>-0.165842</td>\n",
       "      <td>-0.029294</td>\n",
       "      <td>-0.241909</td>\n",
       "      <td>-0.148436</td>\n",
       "      <td>-0.342034</td>\n",
       "      <td>-0.396978</td>\n",
       "    </tr>\n",
       "  </tbody>\n",
       "</table>\n",
       "<p>5500 rows × 22 columns</p>\n",
       "</div>"
      ],
      "text/plain": [
       "      A_follower_count  A_following_count  A_listed_count  \\\n",
       "0            -0.320219          -0.252138       -0.343123   \n",
       "1            -0.309689          -0.234243       -0.330146   \n",
       "2            -0.316728          -0.233509       -0.337471   \n",
       "3            -0.320321          -0.258157       -0.343180   \n",
       "4            -0.297860          -0.240711       -0.190981   \n",
       "...                ...                ...             ...   \n",
       "5495         -0.299745          -0.254525       -0.265091   \n",
       "5496         -0.320276          -0.253342       -0.343007   \n",
       "5497         -0.312748          -0.244568       -0.300214   \n",
       "5498         -0.189584          -0.254036       -0.311518   \n",
       "5499         -0.320022          -0.239508       -0.342950   \n",
       "\n",
       "      A_mentions_received  A_retweets_received  A_mentions_sent  \\\n",
       "0               -0.091391            -0.094229        -0.620955   \n",
       "1               -0.088309            -0.091883        -0.031780   \n",
       "2               -0.090536            -0.093366        -0.068316   \n",
       "3               -0.091147            -0.094213        -0.491645   \n",
       "4               -0.086307            -0.090861         2.297307   \n",
       "...                   ...                  ...              ...   \n",
       "5495            -0.038964            -0.068418         7.436885   \n",
       "5496            -0.091361            -0.094229        -0.620955   \n",
       "5497            -0.089491            -0.092200         0.098149   \n",
       "5498            -0.069744            -0.052462        -0.057868   \n",
       "5499            -0.091275            -0.094181        -0.130459   \n",
       "\n",
       "      A_retweets_sent   A_posts  A_network_feature_1  A_network_feature_2  \\\n",
       "0           -0.528464 -0.476683            -0.181912             0.784974   \n",
       "1            0.000646 -0.213757            -0.169234            -0.637650   \n",
       "2           -0.271566 -0.300420            -0.178699            -0.152560   \n",
       "3           -0.528464 -0.341876            -0.181774            -0.795644   \n",
       "4            1.164108  0.806646            -0.162946             0.409318   \n",
       "...               ...       ...                  ...                  ...   \n",
       "5495         2.241892  5.207120            -0.067737            -0.333161   \n",
       "5496        -0.528464 -0.463521            -0.181808             0.113332   \n",
       "5497        -0.402066 -0.141267            -0.175003             0.650407   \n",
       "5498        -0.528464 -0.086975            -0.092058            -0.778096   \n",
       "5499        -0.125537 -0.335180            -0.181705             1.208955   \n",
       "\n",
       "      ...  B_following_count  B_listed_count  B_mentions_received  \\\n",
       "0     ...           0.341023       -0.258561            -0.101207   \n",
       "1     ...          -0.237546       -0.263408            -0.100208   \n",
       "2     ...          -0.244858       -0.349551            -0.101793   \n",
       "3     ...           0.097868       -0.345134            -0.078989   \n",
       "4     ...          -0.220305       -0.351085            -0.100962   \n",
       "...   ...                ...             ...                  ...   \n",
       "5495  ...          -0.227118        0.566916             0.172463   \n",
       "5496  ...          -0.244918       -0.361700            -0.101810   \n",
       "5497  ...          -0.220305       -0.351085            -0.100962   \n",
       "5498  ...           0.496713        1.001865            -0.094786   \n",
       "5499  ...          -0.192375        0.421442            -0.089395   \n",
       "\n",
       "      B_retweets_received  B_mentions_sent  B_retweets_sent   B_posts  \\\n",
       "0               -0.106312         0.216318        -0.398890 -0.129578   \n",
       "1               -0.105781        -0.295181        -0.279339 -0.434267   \n",
       "2               -0.106700        -0.564923        -0.518442 -0.458315   \n",
       "3               -0.064960         2.204867         3.124530  1.163267   \n",
       "4               -0.106355         0.068348         0.006954 -0.254448   \n",
       "...                   ...              ...              ...       ...   \n",
       "5495             0.429939         1.704443         0.659463  0.458960   \n",
       "5496            -0.106706        -0.616591        -0.518442 -0.405867   \n",
       "5497            -0.106355         0.068348         0.006954 -0.254448   \n",
       "5498            -0.102207         0.077040         0.123117 -0.264918   \n",
       "5499            -0.091470        -0.165842        -0.029294 -0.241909   \n",
       "\n",
       "      B_network_feature_1  B_network_feature_2  B_network_feature_3  \n",
       "0               -0.193770            -0.088986            -0.331306  \n",
       "1               -0.190148             0.440592            -0.147445  \n",
       "2               -0.196123            -0.700078            -0.628414  \n",
       "3               -0.130436            -0.576954            -0.425727  \n",
       "4               -0.193061            -0.342341            -0.317401  \n",
       "...                   ...                  ...                  ...  \n",
       "5495             0.698428            -0.597053            -0.422469  \n",
       "5496            -0.196197            -0.337655             0.221772  \n",
       "5497            -0.193061            -0.342341            -0.317401  \n",
       "5498            -0.170244             1.399519             0.620341  \n",
       "5499            -0.148436            -0.342034            -0.396978  \n",
       "\n",
       "[5500 rows x 22 columns]"
      ]
     },
     "execution_count": 24,
     "metadata": {},
     "output_type": "execute_result"
    }
   ],
   "source": [
    "normalized_df"
   ]
  },
  {
   "cell_type": "code",
   "execution_count": 25,
   "id": "94d02592",
   "metadata": {
    "execution": {
     "iopub.execute_input": "2023-01-23T23:43:34.076013Z",
     "iopub.status.busy": "2023-01-23T23:43:34.075250Z",
     "iopub.status.idle": "2023-01-23T23:43:34.087183Z",
     "shell.execute_reply": "2023-01-23T23:43:34.086255Z"
    },
    "papermill": {
     "duration": 0.0319,
     "end_time": "2023-01-23T23:43:34.089619",
     "exception": false,
     "start_time": "2023-01-23T23:43:34.057719",
     "status": "completed"
    },
    "tags": []
   },
   "outputs": [],
   "source": [
    "X_train, X_test, y_train, y_test = train_test_split(normalized_df, y, stratify=y, test_size=0.20, random_state= 15)"
   ]
  },
  {
   "cell_type": "code",
   "execution_count": 26,
   "id": "70b1ab9f",
   "metadata": {
    "execution": {
     "iopub.execute_input": "2023-01-23T23:43:34.122323Z",
     "iopub.status.busy": "2023-01-23T23:43:34.121564Z",
     "iopub.status.idle": "2023-01-23T23:43:34.127506Z",
     "shell.execute_reply": "2023-01-23T23:43:34.126525Z"
    },
    "papermill": {
     "duration": 0.025362,
     "end_time": "2023-01-23T23:43:34.129808",
     "exception": false,
     "start_time": "2023-01-23T23:43:34.104446",
     "status": "completed"
    },
    "tags": []
   },
   "outputs": [],
   "source": [
    "clf = RandomForestClassifier(random_state=18)\n",
    "param_grid = {\n",
    "                 'n_estimators': [5, 10, 15, 20, 50, 100],\n",
    "                 'max_depth': [2, 5, 7, 9]\n",
    "             }"
   ]
  },
  {
   "cell_type": "code",
   "execution_count": 27,
   "id": "0d893407",
   "metadata": {
    "execution": {
     "iopub.execute_input": "2023-01-23T23:43:34.163206Z",
     "iopub.status.busy": "2023-01-23T23:43:34.162436Z",
     "iopub.status.idle": "2023-01-23T23:44:27.831994Z",
     "shell.execute_reply": "2023-01-23T23:44:27.830533Z"
    },
    "papermill": {
     "duration": 53.704606,
     "end_time": "2023-01-23T23:44:27.850395",
     "exception": false,
     "start_time": "2023-01-23T23:43:34.145789",
     "status": "completed"
    },
    "tags": []
   },
   "outputs": [
    {
     "data": {
      "text/plain": [
       "GridSearchCV(cv=10, estimator=RandomForestClassifier(random_state=18),\n",
       "             param_grid={'max_depth': [2, 5, 7, 9],\n",
       "                         'n_estimators': [5, 10, 15, 20, 50, 100]})"
      ]
     },
     "execution_count": 27,
     "metadata": {},
     "output_type": "execute_result"
    }
   ],
   "source": [
    "grid_clf = GridSearchCV(clf, param_grid, cv=10)\n",
    "grid_clf.fit(X_train,y_train)"
   ]
  },
  {
   "cell_type": "code",
   "execution_count": 28,
   "id": "70a32cf8",
   "metadata": {
    "execution": {
     "iopub.execute_input": "2023-01-23T23:44:27.884802Z",
     "iopub.status.busy": "2023-01-23T23:44:27.884281Z",
     "iopub.status.idle": "2023-01-23T23:44:27.892786Z",
     "shell.execute_reply": "2023-01-23T23:44:27.891521Z"
    },
    "papermill": {
     "duration": 0.029028,
     "end_time": "2023-01-23T23:44:27.895607",
     "exception": false,
     "start_time": "2023-01-23T23:44:27.866579",
     "status": "completed"
    },
    "tags": []
   },
   "outputs": [
    {
     "data": {
      "text/plain": [
       "{'max_depth': 7, 'n_estimators': 100}"
      ]
     },
     "execution_count": 28,
     "metadata": {},
     "output_type": "execute_result"
    }
   ],
   "source": [
    "grid_clf.best_params_"
   ]
  },
  {
   "cell_type": "code",
   "execution_count": 29,
   "id": "76cd2137",
   "metadata": {
    "execution": {
     "iopub.execute_input": "2023-01-23T23:44:27.928983Z",
     "iopub.status.busy": "2023-01-23T23:44:27.928006Z",
     "iopub.status.idle": "2023-01-23T23:44:27.934043Z",
     "shell.execute_reply": "2023-01-23T23:44:27.933095Z"
    },
    "papermill": {
     "duration": 0.025831,
     "end_time": "2023-01-23T23:44:27.936619",
     "exception": false,
     "start_time": "2023-01-23T23:44:27.910788",
     "status": "completed"
    },
    "tags": []
   },
   "outputs": [],
   "source": [
    "rf=RandomForestClassifier(max_depth=7, n_estimators= 100)"
   ]
  },
  {
   "cell_type": "code",
   "execution_count": 30,
   "id": "13606e07",
   "metadata": {
    "execution": {
     "iopub.execute_input": "2023-01-23T23:44:27.969560Z",
     "iopub.status.busy": "2023-01-23T23:44:27.968596Z",
     "iopub.status.idle": "2023-01-23T23:44:28.758149Z",
     "shell.execute_reply": "2023-01-23T23:44:28.756820Z"
    },
    "papermill": {
     "duration": 0.809363,
     "end_time": "2023-01-23T23:44:28.761094",
     "exception": false,
     "start_time": "2023-01-23T23:44:27.951731",
     "status": "completed"
    },
    "tags": []
   },
   "outputs": [
    {
     "data": {
      "text/plain": [
       "RandomForestClassifier(max_depth=7)"
      ]
     },
     "execution_count": 30,
     "metadata": {},
     "output_type": "execute_result"
    }
   ],
   "source": [
    "rf.fit(X_train,y_train)"
   ]
  },
  {
   "cell_type": "code",
   "execution_count": 31,
   "id": "557c72ce",
   "metadata": {
    "execution": {
     "iopub.execute_input": "2023-01-23T23:44:28.794491Z",
     "iopub.status.busy": "2023-01-23T23:44:28.794004Z",
     "iopub.status.idle": "2023-01-23T23:44:28.832370Z",
     "shell.execute_reply": "2023-01-23T23:44:28.831106Z"
    },
    "papermill": {
     "duration": 0.058166,
     "end_time": "2023-01-23T23:44:28.835228",
     "exception": false,
     "start_time": "2023-01-23T23:44:28.777062",
     "status": "completed"
    },
    "tags": []
   },
   "outputs": [],
   "source": [
    "ypred = rf.predict(X_test)"
   ]
  },
  {
   "cell_type": "code",
   "execution_count": 32,
   "id": "edeeb5ab",
   "metadata": {
    "execution": {
     "iopub.execute_input": "2023-01-23T23:44:28.868178Z",
     "iopub.status.busy": "2023-01-23T23:44:28.867656Z",
     "iopub.status.idle": "2023-01-23T23:44:28.874533Z",
     "shell.execute_reply": "2023-01-23T23:44:28.873609Z"
    },
    "papermill": {
     "duration": 0.026273,
     "end_time": "2023-01-23T23:44:28.876887",
     "exception": false,
     "start_time": "2023-01-23T23:44:28.850614",
     "status": "completed"
    },
    "tags": []
   },
   "outputs": [],
   "source": [
    "cm=confusion_matrix(y_test, ypred)"
   ]
  },
  {
   "cell_type": "code",
   "execution_count": 33,
   "id": "8d214be9",
   "metadata": {
    "execution": {
     "iopub.execute_input": "2023-01-23T23:44:28.910271Z",
     "iopub.status.busy": "2023-01-23T23:44:28.909077Z",
     "iopub.status.idle": "2023-01-23T23:44:28.915014Z",
     "shell.execute_reply": "2023-01-23T23:44:28.914218Z"
    },
    "papermill": {
     "duration": 0.025549,
     "end_time": "2023-01-23T23:44:28.917880",
     "exception": false,
     "start_time": "2023-01-23T23:44:28.892331",
     "status": "completed"
    },
    "tags": []
   },
   "outputs": [
    {
     "name": "stdout",
     "output_type": "stream",
     "text": [
      "Confusion Matrix for Validation set using RF classifer STANDARDIZED DATA:\n",
      " [[418 122]\n",
      " [135 425]]\n"
     ]
    }
   ],
   "source": [
    "print(\"Confusion Matrix for Validation set using RF classifer STANDARDIZED DATA:\\n\",cm)"
   ]
  },
  {
   "cell_type": "code",
   "execution_count": 34,
   "id": "74865ee3",
   "metadata": {
    "execution": {
     "iopub.execute_input": "2023-01-23T23:44:28.953232Z",
     "iopub.status.busy": "2023-01-23T23:44:28.952384Z",
     "iopub.status.idle": "2023-01-23T23:44:29.149134Z",
     "shell.execute_reply": "2023-01-23T23:44:29.148119Z"
    },
    "papermill": {
     "duration": 0.216787,
     "end_time": "2023-01-23T23:44:29.151584",
     "exception": false,
     "start_time": "2023-01-23T23:44:28.934797",
     "status": "completed"
    },
    "tags": []
   },
   "outputs": [
    {
     "name": "stdout",
     "output_type": "stream",
     "text": [
      "Random Forest, AUC=0.8596\n"
     ]
    },
    {
     "data": {
      "image/png": "[encoded data removed]",
      "text/plain": [
       "<Figure size 720x576 with 1 Axes>"
      ]
     },
     "metadata": {
      "needs_background": "light"
     },
     "output_type": "display_data"
    }
   ],
   "source": [
    "plt.figure(figsize = (10,8))\n",
    "dt_probs = rf.predict_proba(X_test)\n",
    "dt_probs = dt_probs[:, 1]\n",
    "fpr, tpr, _ = metrics.roc_curve(y_test, dt_probs)\n",
    "auc = round(metrics.roc_auc_score(y_test, dt_probs), 4)\n",
    "plt.plot(fpr,tpr)\n",
    "print(\"Random Forest, AUC=\"+str(auc))"
   ]
  },
  {
   "cell_type": "code",
   "execution_count": 35,
   "id": "37f8237a",
   "metadata": {
    "execution": {
     "iopub.execute_input": "2023-01-23T23:44:29.186599Z",
     "iopub.status.busy": "2023-01-23T23:44:29.185645Z",
     "iopub.status.idle": "2023-01-23T23:44:29.526307Z",
     "shell.execute_reply": "2023-01-23T23:44:29.524761Z"
    },
    "papermill": {
     "duration": 0.361369,
     "end_time": "2023-01-23T23:44:29.529241",
     "exception": false,
     "start_time": "2023-01-23T23:44:29.167872",
     "status": "completed"
    },
    "tags": []
   },
   "outputs": [
    {
     "data": {
      "text/plain": [
       "Text(0.5, 0, 'Random Forest Feature Importance')"
      ]
     },
     "execution_count": 35,
     "metadata": {},
     "output_type": "execute_result"
    },
    {
     "data": {
      "image/png": "[encoded data removed]",
      "text/plain": [
       "<Figure size 720x576 with 1 Axes>"
      ]
     },
     "metadata": {
      "needs_background": "light"
     },
     "output_type": "display_data"
    }
   ],
   "source": [
    "plt.figure(figsize = (10,8))\n",
    "sorted_idx = rf.feature_importances_.argsort()\n",
    "plt.barh(X.columns[sorted_idx], rf.feature_importances_[sorted_idx])\n",
    "plt.xlabel(\"Random Forest Feature Importance\")"
   ]
  },
  {
   "cell_type": "code",
   "execution_count": 36,
   "id": "fb1955ac",
   "metadata": {
    "execution": {
     "iopub.execute_input": "2023-01-23T23:44:29.567003Z",
     "iopub.status.busy": "2023-01-23T23:44:29.566010Z",
     "iopub.status.idle": "2023-01-23T23:44:29.575493Z",
     "shell.execute_reply": "2023-01-23T23:44:29.573885Z"
    },
    "papermill": {
     "duration": 0.033134,
     "end_time": "2023-01-23T23:44:29.579195",
     "exception": false,
     "start_time": "2023-01-23T23:44:29.546061",
     "status": "completed"
    },
    "tags": []
   },
   "outputs": [
    {
     "name": "stdout",
     "output_type": "stream",
     "text": [
      "Accuracy Score for Test set using Random Forest classifer: 0.77\n"
     ]
    }
   ],
   "source": [
    "print(\"Accuracy Score for Test set using Random Forest classifer:\",round(accuracy_score(y_test, ypred),2))"
   ]
  },
  {
   "cell_type": "markdown",
   "id": "b93c3da1",
   "metadata": {
    "papermill": {
     "duration": 0.016116,
     "end_time": "2023-01-23T23:44:29.612924",
     "exception": false,
     "start_time": "2023-01-23T23:44:29.596808",
     "status": "completed"
    },
    "tags": []
   },
   "source": [
    "Both, with and without standardization RF classifiers have the same accuracy."
   ]
  },
  {
   "cell_type": "markdown",
   "id": "f00e6672",
   "metadata": {
    "papermill": {
     "duration": 0.016095,
     "end_time": "2023-01-23T23:44:29.645800",
     "exception": false,
     "start_time": "2023-01-23T23:44:29.629705",
     "status": "completed"
    },
    "tags": []
   },
   "source": [
    "4 most indicative features of being an influencer are:\n",
    "1. Listed Count\n",
    "2. Follower Count\n",
    "3. Mentions Received\n",
    "4. Retweets Recieved\n",
    "\n",
    "Followed by :\n",
    "\n",
    "5. Number of Posts\n",
    "6. Mentions Sent\n",
    "7. Following Count\n",
    "8. Retweets Sent"
   ]
  },
  {
   "cell_type": "code",
   "execution_count": null,
   "id": "d5edf5e0",
   "metadata": {
    "papermill": {
     "duration": 0.016014,
     "end_time": "2023-01-23T23:44:29.678089",
     "exception": false,
     "start_time": "2023-01-23T23:44:29.662075",
     "status": "completed"
    },
    "tags": []
   },
   "outputs": [],
   "source": []
  },
  {
   "cell_type": "code",
   "execution_count": null,
   "id": "b0a122a0",
   "metadata": {
    "papermill": {
     "duration": 0.016508,
     "end_time": "2023-01-23T23:44:29.711907",
     "exception": false,
     "start_time": "2023-01-23T23:44:29.695399",
     "status": "completed"
    },
    "tags": []
   },
   "outputs": [],
   "source": []
  },
  {
   "cell_type": "code",
   "execution_count": null,
   "id": "e40b372f",
   "metadata": {
    "papermill": {
     "duration": 0.017102,
     "end_time": "2023-01-23T23:44:29.746154",
     "exception": false,
     "start_time": "2023-01-23T23:44:29.729052",
     "status": "completed"
    },
    "tags": []
   },
   "outputs": [],
   "source": []
  },
  {
   "cell_type": "code",
   "execution_count": null,
   "id": "bbfad3e6",
   "metadata": {
    "papermill": {
     "duration": 0.016312,
     "end_time": "2023-01-23T23:44:29.779159",
     "exception": false,
     "start_time": "2023-01-23T23:44:29.762847",
     "status": "completed"
    },
    "tags": []
   },
   "outputs": [],
   "source": []
  },
  {
   "cell_type": "code",
   "execution_count": null,
   "id": "aa14fd82",
   "metadata": {
    "papermill": {
     "duration": 0.016555,
     "end_time": "2023-01-23T23:44:29.812746",
     "exception": false,
     "start_time": "2023-01-23T23:44:29.796191",
     "status": "completed"
    },
    "tags": []
   },
   "outputs": [],
   "source": []
  },
  {
   "cell_type": "code",
   "execution_count": null,
   "id": "f1693254",
   "metadata": {
    "papermill": {
     "duration": 0.016011,
     "end_time": "2023-01-23T23:44:29.845012",
     "exception": false,
     "start_time": "2023-01-23T23:44:29.829001",
     "status": "completed"
    },
    "tags": []
   },
   "outputs": [],
   "source": []
  },
  {
   "cell_type": "code",
   "execution_count": null,
   "id": "3be48b0f",
   "metadata": {
    "papermill": {
     "duration": 0.016054,
     "end_time": "2023-01-23T23:44:29.877505",
     "exception": false,
     "start_time": "2023-01-23T23:44:29.861451",
     "status": "completed"
    },
    "tags": []
   },
   "outputs": [],
   "source": []
  },
  {
   "cell_type": "code",
   "execution_count": null,
   "id": "000f0412",
   "metadata": {
    "papermill": {
     "duration": 0.017135,
     "end_time": "2023-01-23T23:44:29.910992",
     "exception": false,
     "start_time": "2023-01-23T23:44:29.893857",
     "status": "completed"
    },
    "tags": []
   },
   "outputs": [],
   "source": []
  },
  {
   "cell_type": "code",
   "execution_count": null,
   "id": "e4f1dbc4",
   "metadata": {
    "papermill": {
     "duration": 0.016298,
     "end_time": "2023-01-23T23:44:29.943797",
     "exception": false,
     "start_time": "2023-01-23T23:44:29.927499",
     "status": "completed"
    },
    "tags": []
   },
   "outputs": [],
   "source": []
  },
  {
   "cell_type": "code",
   "execution_count": null,
   "id": "c39e9503",
   "metadata": {
    "papermill": {
     "duration": 0.016201,
     "end_time": "2023-01-23T23:44:29.976487",
     "exception": false,
     "start_time": "2023-01-23T23:44:29.960286",
     "status": "completed"
    },
    "tags": []
   },
   "outputs": [],
   "source": []
  },
  {
   "cell_type": "code",
   "execution_count": null,
   "id": "564e5052",
   "metadata": {
    "papermill": {
     "duration": 0.016793,
     "end_time": "2023-01-23T23:44:30.009900",
     "exception": false,
     "start_time": "2023-01-23T23:44:29.993107",
     "status": "completed"
    },
    "tags": []
   },
   "outputs": [],
   "source": []
  },
  {
   "cell_type": "code",
   "execution_count": null,
   "id": "2a02c6cd",
   "metadata": {
    "papermill": {
     "duration": 0.01633,
     "end_time": "2023-01-23T23:44:30.044088",
     "exception": false,
     "start_time": "2023-01-23T23:44:30.027758",
     "status": "completed"
    },
    "tags": []
   },
   "outputs": [],
   "source": []
  },
  {
   "cell_type": "code",
   "execution_count": null,
   "id": "c027269e",
   "metadata": {
    "papermill": {
     "duration": 0.016567,
     "end_time": "2023-01-23T23:44:30.077006",
     "exception": false,
     "start_time": "2023-01-23T23:44:30.060439",
     "status": "completed"
    },
    "tags": []
   },
   "outputs": [],
   "source": []
  },
  {
   "cell_type": "code",
   "execution_count": null,
   "id": "cf1aa636",
   "metadata": {
    "papermill": {
     "duration": 0.016536,
     "end_time": "2023-01-23T23:44:30.110139",
     "exception": false,
     "start_time": "2023-01-23T23:44:30.093603",
     "status": "completed"
    },
    "tags": []
   },
   "outputs": [],
   "source": []
  }
 ],
 "metadata": {
  "kernelspec": {
   "display_name": "Python 3",
   "language": "python",
   "name": "python3"
  },
  "language_info": {
   "codemirror_mode": {
    "name": "ipython",
    "version": 3
   },
   "file_extension": ".py",
   "mimetype": "text/x-python",
   "name": "python",
   "nbconvert_exporter": "python",
   "pygments_lexer": "ipython3",
   "version": "3.7.12"
  },
  "papermill": {
   "default_parameters": {},
   "duration": 124.992226,
   "end_time": "2023-01-23T23:44:31.251644",
   "environment_variables": {},
   "exception": null,
   "input_path": "__notebook__.ipynb",
   "output_path": "__notebook__.ipynb",
   "parameters": {},
   "start_time": "2023-01-23T23:42:26.259418",
   "version": "2.3.4"
  }
 },
 "nbformat": 4,
 "nbformat_minor": 5
}
